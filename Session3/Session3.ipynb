{
 "cells": [
  {
   "cell_type": "code",
   "execution_count": 12,
   "id": "cb2e2227",
   "metadata": {},
   "outputs": [],
   "source": [
    "# !pip install scikit-plot"
   ]
  },
  {
   "cell_type": "code",
   "execution_count": 10,
   "id": "5eb08448",
   "metadata": {},
   "outputs": [],
   "source": [
    "import sklearn\n",
    "import pandas as pd\n",
    "import numpy as np\n",
    "import scikitplot as skplt\n",
    "import matplotlib.pyplot as plt\n",
    "%matplotlib inline\n",
    "\n",
    "from sklearn.cluster import KMeans, MiniBatchKMeans, SpectralClustering\n",
    "from sklearn.decomposition.pca import PCA\n",
    "from sklearn.model_selection import train_test_split\n",
    "from sklearn import metrics"
   ]
  },
  {
   "cell_type": "markdown",
   "id": "4fbabf31",
   "metadata": {},
   "source": [
    "# Кластеризация обращения граждан по категориям"
   ]
  },
  {
   "cell_type": "code",
   "execution_count": null,
   "id": "ea5bb594",
   "metadata": {},
   "outputs": [],
   "source": [
    "# Для задачи кластеризации будут испоьзованы седующие алгоритмы:\n",
    "# KMeans - \n",
    "# MiniBatchKMeans - \n",
    "# SpectralClustering - \n",
    "# Так как задачи кластеризации вычислительно сложны и ресурсоемки, будем использовать алгоритмы понижения размерности\n",
    "# Обоснование\n",
    "# \n",
    "# \n",
    "# "
   ]
  },
  {
   "cell_type": "code",
   "execution_count": 4,
   "id": "88b4a2c2",
   "metadata": {},
   "outputs": [],
   "source": [
    "# Загружаем данные\n",
    "try:\n",
    "    df = pd.read_csv('../Session2/category.csv')\n",
    "except Exception as ex:\n",
    "    print(ex)"
   ]
  },
  {
   "cell_type": "code",
   "execution_count": 7,
   "id": "810e6ea9",
   "metadata": {},
   "outputs": [
    {
     "data": {
      "text/html": [
       "<div>\n",
       "<style scoped>\n",
       "    .dataframe tbody tr th:only-of-type {\n",
       "        vertical-align: middle;\n",
       "    }\n",
       "\n",
       "    .dataframe tbody tr th {\n",
       "        vertical-align: top;\n",
       "    }\n",
       "\n",
       "    .dataframe thead th {\n",
       "        text-align: right;\n",
       "    }\n",
       "</style>\n",
       "<table border=\"1\" class=\"dataframe\">\n",
       "  <thead>\n",
       "    <tr style=\"text-align: right;\">\n",
       "      <th></th>\n",
       "      <th>Unnamed: 0</th>\n",
       "      <th>0</th>\n",
       "      <th>1</th>\n",
       "      <th>2</th>\n",
       "      <th>3</th>\n",
       "      <th>4</th>\n",
       "      <th>5</th>\n",
       "      <th>6</th>\n",
       "      <th>7</th>\n",
       "      <th>8</th>\n",
       "      <th>...</th>\n",
       "      <th>491</th>\n",
       "      <th>492</th>\n",
       "      <th>493</th>\n",
       "      <th>494</th>\n",
       "      <th>495</th>\n",
       "      <th>496</th>\n",
       "      <th>497</th>\n",
       "      <th>498</th>\n",
       "      <th>499</th>\n",
       "      <th>category</th>\n",
       "    </tr>\n",
       "  </thead>\n",
       "  <tbody>\n",
       "    <tr>\n",
       "      <th>0</th>\n",
       "      <td>0</td>\n",
       "      <td>0.0</td>\n",
       "      <td>0.000000</td>\n",
       "      <td>0.0</td>\n",
       "      <td>0.0</td>\n",
       "      <td>0.0</td>\n",
       "      <td>0.000000</td>\n",
       "      <td>0.0</td>\n",
       "      <td>0.0</td>\n",
       "      <td>0.0</td>\n",
       "      <td>...</td>\n",
       "      <td>0.0</td>\n",
       "      <td>0.0</td>\n",
       "      <td>0.0</td>\n",
       "      <td>0.0</td>\n",
       "      <td>0.0</td>\n",
       "      <td>0.0</td>\n",
       "      <td>0.0</td>\n",
       "      <td>0.0</td>\n",
       "      <td>0.0</td>\n",
       "      <td>благоустройство территории</td>\n",
       "    </tr>\n",
       "    <tr>\n",
       "      <th>1</th>\n",
       "      <td>1</td>\n",
       "      <td>0.0</td>\n",
       "      <td>0.236492</td>\n",
       "      <td>0.0</td>\n",
       "      <td>0.0</td>\n",
       "      <td>0.0</td>\n",
       "      <td>0.000000</td>\n",
       "      <td>0.0</td>\n",
       "      <td>0.0</td>\n",
       "      <td>0.0</td>\n",
       "      <td>...</td>\n",
       "      <td>0.0</td>\n",
       "      <td>0.0</td>\n",
       "      <td>0.0</td>\n",
       "      <td>0.0</td>\n",
       "      <td>0.0</td>\n",
       "      <td>0.0</td>\n",
       "      <td>0.0</td>\n",
       "      <td>0.0</td>\n",
       "      <td>0.0</td>\n",
       "      <td>благоустройство территории</td>\n",
       "    </tr>\n",
       "    <tr>\n",
       "      <th>2</th>\n",
       "      <td>2</td>\n",
       "      <td>0.0</td>\n",
       "      <td>0.000000</td>\n",
       "      <td>0.0</td>\n",
       "      <td>0.0</td>\n",
       "      <td>0.0</td>\n",
       "      <td>0.000000</td>\n",
       "      <td>0.0</td>\n",
       "      <td>0.0</td>\n",
       "      <td>0.0</td>\n",
       "      <td>...</td>\n",
       "      <td>0.0</td>\n",
       "      <td>0.0</td>\n",
       "      <td>0.0</td>\n",
       "      <td>0.0</td>\n",
       "      <td>0.0</td>\n",
       "      <td>0.0</td>\n",
       "      <td>0.0</td>\n",
       "      <td>0.0</td>\n",
       "      <td>0.0</td>\n",
       "      <td>содержание и ремонт муниципальных дорог</td>\n",
       "    </tr>\n",
       "    <tr>\n",
       "      <th>3</th>\n",
       "      <td>3</td>\n",
       "      <td>0.0</td>\n",
       "      <td>0.000000</td>\n",
       "      <td>0.0</td>\n",
       "      <td>0.0</td>\n",
       "      <td>0.0</td>\n",
       "      <td>0.303421</td>\n",
       "      <td>0.0</td>\n",
       "      <td>0.0</td>\n",
       "      <td>0.0</td>\n",
       "      <td>...</td>\n",
       "      <td>0.0</td>\n",
       "      <td>0.0</td>\n",
       "      <td>0.0</td>\n",
       "      <td>0.0</td>\n",
       "      <td>0.0</td>\n",
       "      <td>0.0</td>\n",
       "      <td>0.0</td>\n",
       "      <td>0.0</td>\n",
       "      <td>0.0</td>\n",
       "      <td>благоустройство территории</td>\n",
       "    </tr>\n",
       "    <tr>\n",
       "      <th>4</th>\n",
       "      <td>4</td>\n",
       "      <td>0.0</td>\n",
       "      <td>0.000000</td>\n",
       "      <td>0.0</td>\n",
       "      <td>0.0</td>\n",
       "      <td>0.0</td>\n",
       "      <td>0.000000</td>\n",
       "      <td>0.0</td>\n",
       "      <td>0.0</td>\n",
       "      <td>0.0</td>\n",
       "      <td>...</td>\n",
       "      <td>0.0</td>\n",
       "      <td>0.0</td>\n",
       "      <td>0.0</td>\n",
       "      <td>0.0</td>\n",
       "      <td>0.0</td>\n",
       "      <td>0.0</td>\n",
       "      <td>0.0</td>\n",
       "      <td>0.0</td>\n",
       "      <td>0.0</td>\n",
       "      <td>содержание и ремонт муниципальных дорог</td>\n",
       "    </tr>\n",
       "  </tbody>\n",
       "</table>\n",
       "<p>5 rows × 502 columns</p>\n",
       "</div>"
      ],
      "text/plain": [
       "   Unnamed: 0    0         1    2    3    4         5    6    7    8  ...  \\\n",
       "0           0  0.0  0.000000  0.0  0.0  0.0  0.000000  0.0  0.0  0.0  ...   \n",
       "1           1  0.0  0.236492  0.0  0.0  0.0  0.000000  0.0  0.0  0.0  ...   \n",
       "2           2  0.0  0.000000  0.0  0.0  0.0  0.000000  0.0  0.0  0.0  ...   \n",
       "3           3  0.0  0.000000  0.0  0.0  0.0  0.303421  0.0  0.0  0.0  ...   \n",
       "4           4  0.0  0.000000  0.0  0.0  0.0  0.000000  0.0  0.0  0.0  ...   \n",
       "\n",
       "   491  492  493  494  495  496  497  498  499  \\\n",
       "0  0.0  0.0  0.0  0.0  0.0  0.0  0.0  0.0  0.0   \n",
       "1  0.0  0.0  0.0  0.0  0.0  0.0  0.0  0.0  0.0   \n",
       "2  0.0  0.0  0.0  0.0  0.0  0.0  0.0  0.0  0.0   \n",
       "3  0.0  0.0  0.0  0.0  0.0  0.0  0.0  0.0  0.0   \n",
       "4  0.0  0.0  0.0  0.0  0.0  0.0  0.0  0.0  0.0   \n",
       "\n",
       "                                  category  \n",
       "0               благоустройство территории  \n",
       "1               благоустройство территории  \n",
       "2  содержание и ремонт муниципальных дорог  \n",
       "3               благоустройство территории  \n",
       "4  содержание и ремонт муниципальных дорог  \n",
       "\n",
       "[5 rows x 502 columns]"
      ]
     },
     "execution_count": 7,
     "metadata": {},
     "output_type": "execute_result"
    }
   ],
   "source": [
    "df.head()"
   ]
  },
  {
   "cell_type": "code",
   "execution_count": null,
   "id": "a2e7bea6",
   "metadata": {},
   "outputs": [],
   "source": [
    "# Делим исходный набор на тестовую и тренировочную"
   ]
  },
  {
   "cell_type": "code",
   "execution_count": 5,
   "id": "bf94d123",
   "metadata": {},
   "outputs": [],
   "source": [
    "train_x, test_x, train_y, test_y = train_test_split(df.iloc[:, 1:-1], df.category, test_size=0.33)"
   ]
  },
  {
   "cell_type": "code",
   "execution_count": 137,
   "id": "79dd1d2c",
   "metadata": {},
   "outputs": [
    {
     "data": {
      "text/plain": [
       "((14064, 500), (14064,))"
      ]
     },
     "execution_count": 137,
     "metadata": {},
     "output_type": "execute_result"
    }
   ],
   "source": [
    "train_x.shape, train_y.shape"
   ]
  },
  {
   "cell_type": "code",
   "execution_count": 12,
   "id": "f44b99db",
   "metadata": {},
   "outputs": [],
   "source": [
    "# Обучим модель понижения размерности PCA для преобразования признаков из исходной размерности в меньшее. Это поможет повысить скорость обучения моделей почти не изменяя точность"
   ]
  },
  {
   "cell_type": "code",
   "execution_count": 6,
   "id": "ae335119",
   "metadata": {},
   "outputs": [
    {
     "data": {
      "text/plain": [
       "<AxesSubplot:title={'center':'PCA Component Explained Variances'}, xlabel='First n principal components', ylabel='Explained variance ratio of first n components'>"
      ]
     },
     "execution_count": 6,
     "metadata": {},
     "output_type": "execute_result"
    },
    {
     "data": {
      "image/png": "[encoded data removed]",
      "text/plain": [
       "<Figure size 432x288 with 1 Axes>"
      ]
     },
     "metadata": {
      "needs_background": "light"
     },
     "output_type": "display_data"
    }
   ],
   "source": [
    "pca = PCA(random_state=2022)\n",
    "pca.fit(train_x)\n",
    "skplt.decomposition.plot_pca_component_variance(pca)"
   ]
  },
  {
   "cell_type": "code",
   "execution_count": null,
   "id": "9b95f825",
   "metadata": {},
   "outputs": [],
   "source": [
    "# Визуализируем категории обращения граждан"
   ]
  },
  {
   "cell_type": "code",
   "execution_count": 41,
   "id": "a5352de1",
   "metadata": {},
   "outputs": [
    {
     "data": {
      "text/plain": [
       "<AxesSubplot:title={'center':'PCA 2-D Projection'}, xlabel='First Principal Component', ylabel='Second Principal Component'>"
      ]
     },
     "execution_count": 41,
     "metadata": {},
     "output_type": "execute_result"
    },
    {
     "data": {
      "image/png": "[encoded data removed]",
      "text/plain": [
       "<Figure size 432x288 with 1 Axes>"
      ]
     },
     "metadata": {
      "needs_background": "light"
     },
     "output_type": "display_data"
    }
   ],
   "source": [
    "skplt.decomposition.plot_pca_2d_projection(pca, train_x, train_y)"
   ]
  },
  {
   "cell_type": "code",
   "execution_count": null,
   "id": "1d864ac6",
   "metadata": {},
   "outputs": [],
   "source": [
    "# Обучим первую модель KMeans"
   ]
  },
  {
   "cell_type": "code",
   "execution_count": 60,
   "id": "54c19515",
   "metadata": {},
   "outputs": [
    {
     "data": {
      "text/plain": [
       "KMeans(algorithm='auto', copy_x=True, init='k-means++', max_iter=300,\n",
       "       n_clusters=7, n_init=10, n_jobs=None, precompute_distances='auto',\n",
       "       random_state=True, tol=0.0001, verbose=0)"
      ]
     },
     "execution_count": 60,
     "metadata": {},
     "output_type": "execute_result"
    }
   ],
   "source": [
    "kmeans = KMeans(n_clusters=len(pd.unique(df.category)), random_state=True)\n",
    "kmeans.fit(pca.transform(train_x), train_y)"
   ]
  },
  {
   "cell_type": "code",
   "execution_count": null,
   "id": "7a26e1e1",
   "metadata": {},
   "outputs": [],
   "source": [
    "# Предскажем обращения пользователей"
   ]
  },
  {
   "cell_type": "code",
   "execution_count": 88,
   "id": "7edca875",
   "metadata": {},
   "outputs": [],
   "source": [
    "def pred(index):\n",
    "    print(kmeans.predict(pca.transform([df.iloc[index, 1:-1].values])), df.iloc[index, -1])"
   ]
  },
  {
   "cell_type": "code",
   "execution_count": 89,
   "id": "8a4de611",
   "metadata": {},
   "outputs": [
    {
     "name": "stdout",
     "output_type": "stream",
     "text": [
      "[2] содержание и ремонт муниципальных дорог\n",
      "[2] уборка снега\n",
      "[0] организация дорожного движения\n",
      "[1] благоустройство территории\n"
     ]
    }
   ],
   "source": [
    "pred(4)\n",
    "pred(19799)\n",
    "pred(405)\n",
    "pred(5)"
   ]
  },
  {
   "cell_type": "code",
   "execution_count": null,
   "id": "209b5d35",
   "metadata": {},
   "outputs": [],
   "source": [
    "# Выведем результат работы алгоритма, измерив ее с помощью соответствующих метрик"
   ]
  },
  {
   "cell_type": "code",
   "execution_count": 90,
   "id": "73607431",
   "metadata": {},
   "outputs": [
    {
     "name": "stdout",
     "output_type": "stream",
     "text": [
      "homogeneity_completeness_v_measure: (0.15953898433381364, 0.18698372718690948, 0.17217453823696308)\n",
      "adjusted_rand_score: 0.002297460178550251\n"
     ]
    }
   ],
   "source": [
    "def print_metrics(x, y):\n",
    "    # Первая метрика\n",
    "    print('homogeneity_completeness_v_measure:', \n",
    "          metrics.homogeneity_completeness_v_measure(kmeans.predict(x), y))\n",
    "    # Вторая метрика\n",
    "    print('adjusted_rand_score:', \n",
    "          metrics.adjusted_rand_score(kmeans.predict(x), y))\n",
    "\n",
    "print_metrics(pca.transform(train_x), train_y)"
   ]
  },
  {
   "cell_type": "code",
   "execution_count": 91,
   "id": "8215c548",
   "metadata": {},
   "outputs": [
    {
     "name": "stdout",
     "output_type": "stream",
     "text": [
      "homogeneity_completeness_v_measure: (0.16609096147717148, 0.19237411768168688, 0.1782689808672501)\n",
      "adjusted_rand_score: 0.0052255953962781175\n"
     ]
    }
   ],
   "source": [
    "print_metrics(pca.transform(test_x), test_y)"
   ]
  },
  {
   "cell_type": "code",
   "execution_count": 154,
   "id": "4e42a303",
   "metadata": {},
   "outputs": [],
   "source": [
    "# Визуализируем на двумерной плоскости целевые значения и предсказанные на обученном наборе, видно, что алгоритмы работают не совсем хорошо"
   ]
  },
  {
   "cell_type": "code",
   "execution_count": 161,
   "id": "e4b262f4",
   "metadata": {},
   "outputs": [
    {
     "data": {
      "text/plain": [
       "<matplotlib.collections.PathCollection at 0x7f8dc6ccb828>"
      ]
     },
     "execution_count": 161,
     "metadata": {},
     "output_type": "execute_result"
    },
    {
     "data": {
      "image/png": "[encoded data removed]",
      "text/plain": [
       "<Figure size 432x288 with 1 Axes>"
      ]
     },
     "metadata": {
      "needs_background": "light"
     },
     "output_type": "display_data"
    }
   ],
   "source": [
    "pca1 = PCA(n_components=2)\n",
    "pca1.fit(train_x)\n",
    "vis = pd.concat([pd.DataFrame(pca1.transform(train_x)), pd.DataFrame(kmeans.predict(pca.transform(train_x)), columns=['t'])], axis=1)\n",
    "\n",
    "plt.scatter(vis[vis['t']==2].iloc[:, [0]], vis[vis['t']==2].iloc[:, [1]], c='green')\n",
    "plt.scatter(vis[vis['t']==3].iloc[:, [0]], vis[vis['t']==3].iloc[:, [1]], c='yellow')\n",
    "plt.scatter(vis[vis['t']==4].iloc[:, [0]], vis[vis['t']==4].iloc[:, [1]], c='blue')\n",
    "plt.scatter(vis[vis['t']==1].iloc[:, [0]], vis[vis['t']==1].iloc[:, [1]], c='black')\n",
    "plt.scatter(vis[vis['t']==6].iloc[:, [0]], vis[vis['t']==6].iloc[:, [1]], c='magenta')\n",
    "plt.scatter(vis[vis['t']==5].iloc[:, [0]], vis[vis['t']==5].iloc[:, [1]], c='purple')\n",
    "plt.scatter(vis[vis['t']==0].iloc[:, [0]], vis[vis['t']==0].iloc[:, [1]], c='red')"
   ]
  },
  {
   "cell_type": "code",
   "execution_count": 166,
   "id": "eff4a5ae",
   "metadata": {},
   "outputs": [
    {
     "data": {
      "text/plain": [
       "<matplotlib.collections.PathCollection at 0x7f8dc6aabc88>"
      ]
     },
     "execution_count": 166,
     "metadata": {},
     "output_type": "execute_result"
    },
    {
     "data": {
      "image/png": "[encoded data removed]",
      "text/plain": [
       "<Figure size 432x288 with 1 Axes>"
      ]
     },
     "metadata": {
      "needs_background": "light"
     },
     "output_type": "display_data"
    }
   ],
   "source": [
    "vis = pd.concat([pd.DataFrame(pca1.transform(train_x)), pd.DataFrame(train_y.values, columns=['t'])], axis=1)\n",
    "l = vis['t'].value_counts().index.tolist()\n",
    "\n",
    "plt.scatter(vis[vis['t']==l[0]].iloc[:, [0]], vis[vis['t']==l[0]].iloc[:, [1]], c='blue')\n",
    "plt.scatter(vis[vis['t']==l[1]].iloc[:, [0]], vis[vis['t']==l[1]].iloc[:, [1]], c='green')\n",
    "plt.scatter(vis[vis['t']==l[2]].iloc[:, [0]], vis[vis['t']==l[2]].iloc[:, [1]], c='red')\n",
    "plt.scatter(vis[vis['t']==l[4]].iloc[:, [0]], vis[vis['t']==l[4]].iloc[:, [1]], c='black')\n",
    "plt.scatter(vis[vis['t']==l[5]].iloc[:, [0]], vis[vis['t']==l[5]].iloc[:, [1]], c='purple')\n",
    "plt.scatter(vis[vis['t']==l[6]].iloc[:, [0]], vis[vis['t']==l[6]].iloc[:, [1]], c='magenta')\n",
    "plt.scatter(vis[vis['t']==l[3]].iloc[:, [0]], vis[vis['t']==l[3]].iloc[:, [1]], c='yellow')"
   ]
  },
  {
   "cell_type": "code",
   "execution_count": null,
   "id": "7bc06f79",
   "metadata": {},
   "outputs": [],
   "source": [
    "# Обучим следующие алгоритмы кластеризации и отобразим их точность: 1)SpectralClustering 2)MiniBatchKMeans"
   ]
  },
  {
   "cell_type": "code",
   "execution_count": 8,
   "id": "8121ec9c",
   "metadata": {},
   "outputs": [
    {
     "name": "stdout",
     "output_type": "stream",
     "text": [
      "homogeneity_completeness_v_measure: (0.1266040868076887, 0.18812679396171675, 0.15135229752705365)\n",
      "adjusted_rand_score: 0.03420191088248125\n",
      "homogeneity_completeness_v_measure: (0.1780307231866341, 0.2537349450516091, 0.20924598266267488)\n",
      "adjusted_rand_score: 0.10390011896741908\n"
     ]
    }
   ],
   "source": [
    "def pred(model, index):\n",
    "    print(model.fit_predict(pca.transform([df.iloc[index, 1:-1].values])), df.iloc[index, -1])\n",
    "\n",
    "    \n",
    "def print_metrics(model, x, y):\n",
    "    print('homogeneity_completeness_v_measure:', \n",
    "          metrics.homogeneity_completeness_v_measure(model.fit_predict(pca.transform(x)), y))\n",
    "    print('adjusted_rand_score:', \n",
    "          metrics.adjusted_rand_score(model.fit_predict(pca.transform(x)), y))\n",
    "\n",
    "\n",
    "\n",
    "sprctral = SpectralClustering(n_clusters=len(pd.unique(df.category)))\n",
    "sprctral.fit(pca.transform(train_x), train_y)\n",
    "# pred(sprctral, 4)\n",
    "# pred(sprctral, 19799)\n",
    "# pred(sprctral, 405)\n",
    "# pred(sprctral, 5)\n",
    "print_metrics(sprctral, train_x, train_y)\n",
    "print_metrics(sprctral, test_x, test_y)"
   ]
  },
  {
   "cell_type": "code",
   "execution_count": 11,
   "id": "72a1689d",
   "metadata": {},
   "outputs": [
    {
     "name": "stdout",
     "output_type": "stream",
     "text": [
      "homogeneity_completeness_v_measure: (0.10229389683427291, 0.09862717946734861, 0.10042708019683105)\n",
      "adjusted_rand_score: 0.07408855359661413\n",
      "homogeneity_completeness_v_measure: (0.10270207489358729, 0.09745382348492249, 0.10000914246641611)\n",
      "adjusted_rand_score: 0.06209278057107985\n"
     ]
    }
   ],
   "source": [
    "def pred(model, index):\n",
    "    print(model.predict(pca.transform([df.iloc[index, 1:-1].values])), df.iloc[index, -1])\n",
    "\n",
    "    \n",
    "def print_metrics(model, x, y):\n",
    "    print('homogeneity_completeness_v_measure:', \n",
    "          metrics.homogeneity_completeness_v_measure(model.predict(pca.transform(x)), y))\n",
    "    print('adjusted_rand_score:', \n",
    "          metrics.adjusted_rand_score(model.predict(pca.transform(x)), y))\n",
    "    \n",
    "    \n",
    "\n",
    "shift = MiniBatchKMeans(n_clusters=len(pd.unique(df.category)))\n",
    "shift.fit(pca.transform(train_x), train_y)\n",
    "print_metrics(shift, train_x, train_y)\n",
    "print_metrics(shift, test_x, test_y)"
   ]
  },
  {
   "cell_type": "code",
   "execution_count": null,
   "id": "34510d92",
   "metadata": {},
   "outputs": [],
   "source": [
    "# Лучше всех себя показала SpectralClustering"
   ]
  },
  {
   "cell_type": "code",
   "execution_count": null,
   "id": "abb7d6f0",
   "metadata": {},
   "outputs": [],
   "source": []
  },
  {
   "cell_type": "markdown",
   "id": "bb944699",
   "metadata": {},
   "source": [
    "# Классификация обращений граждан по категориям"
   ]
  },
  {
   "cell_type": "code",
   "execution_count": null,
   "id": "2be0e4cd",
   "metadata": {},
   "outputs": [],
   "source": []
  },
  {
   "cell_type": "code",
   "execution_count": null,
   "id": "960c8b45",
   "metadata": {},
   "outputs": [],
   "source": []
  },
  {
   "cell_type": "code",
   "execution_count": null,
   "id": "4feb5f6a",
   "metadata": {},
   "outputs": [],
   "source": []
  },
  {
   "cell_type": "markdown",
   "id": "0696a10d",
   "metadata": {},
   "source": [
    "# Классификация обращений по ведомствам"
   ]
  },
  {
   "cell_type": "code",
   "execution_count": null,
   "id": "f4da7ba4",
   "metadata": {},
   "outputs": [],
   "source": []
  },
  {
   "cell_type": "code",
   "execution_count": null,
   "id": "99a198fa",
   "metadata": {},
   "outputs": [],
   "source": []
  },
  {
   "cell_type": "code",
   "execution_count": null,
   "id": "34861d76",
   "metadata": {},
   "outputs": [],
   "source": []
  },
  {
   "cell_type": "markdown",
   "id": "efa09ac7",
   "metadata": {},
   "source": [
    "# Семантический анализ обращений"
   ]
  },
  {
   "cell_type": "code",
   "execution_count": null,
   "id": "899da72d",
   "metadata": {},
   "outputs": [],
   "source": []
  },
  {
   "cell_type": "code",
   "execution_count": null,
   "id": "5169e5b8",
   "metadata": {},
   "outputs": [],
   "source": []
  },
  {
   "cell_type": "code",
   "execution_count": null,
   "id": "d981ac58",
   "metadata": {},
   "outputs": [],
   "source": []
  }
 ],
 "metadata": {
  "kernelspec": {
   "display_name": "Python 3",
   "language": "python",
   "name": "python3"
  },
  "language_info": {
   "codemirror_mode": {
    "name": "ipython",
    "version": 3
   },
   "file_extension": ".py",
   "mimetype": "text/x-python",
   "name": "python",
   "nbconvert_exporter": "python",
   "pygments_lexer": "ipython3",
   "version": "3.6.15"
  }
 },
 "nbformat": 4,
 "nbformat_minor": 5
}
