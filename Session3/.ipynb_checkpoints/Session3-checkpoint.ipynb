{
 "cells": [
  {
   "cell_type": "markdown",
   "id": "ad76d28f",
   "metadata": {},
   "source": [
    "# Баран, нужно исправить: обучить векторизатор, загружать и использовать в pipeline"
   ]
  },
  {
   "cell_type": "code",
   "execution_count": 35,
   "id": "cb2e2227",
   "metadata": {},
   "outputs": [],
   "source": [
    "# !pip install scikit-plot\n",
    "# !pip install catboost"
   ]
  },
  {
   "cell_type": "code",
   "execution_count": 94,
   "id": "5eb08448",
   "metadata": {},
   "outputs": [
    {
     "name": "stderr",
     "output_type": "stream",
     "text": [
      "/home/user/src/PY36/lib/python3.6/site-packages/sklearn/externals/joblib/__init__.py:15: DeprecationWarning: sklearn.externals.joblib is deprecated in 0.21 and will be removed in 0.23. Please import this functionality directly from joblib, which can be installed with: pip install joblib. If this warning is raised when loading pickled models, you may need to re-serialize those models with scikit-learn 0.21+.\n",
      "  warnings.warn(msg, category=DeprecationWarning)\n"
     ]
    }
   ],
   "source": [
    "import sklearn\n",
    "import pandas as pd\n",
    "import numpy as np\n",
    "import scikitplot as skplt\n",
    "import matplotlib.pyplot as plt\n",
    "%matplotlib inline\n",
    "\n",
    "from sklearn.cluster import KMeans, MiniBatchKMeans, SpectralClustering\n",
    "from sklearn.decomposition.pca import PCA\n",
    "from sklearn.model_selection import train_test_split\n",
    "from sklearn import metrics\n",
    "\n",
    "import catboost\n",
    "from sklearn.linear_model import LogisticRegression\n",
    "from sklearn.ensemble import RandomForestClassifier\n",
    "from sklearn.model_selection import cross_val_score\n",
    "from sklearn.pipeline import make_pipeline\n",
    "from sklearn.model_selection import GridSearchCV\n",
    "\n",
    "from sklearn.externals import joblib"
   ]
  },
  {
   "cell_type": "markdown",
   "id": "4fbabf31",
   "metadata": {},
   "source": [
    "# Кластеризация обращения граждан по категориям"
   ]
  },
  {
   "cell_type": "code",
   "execution_count": null,
   "id": "ea5bb594",
   "metadata": {},
   "outputs": [],
   "source": [
    "# Для задачи кластеризации будут испоьзованы седующие алгоритмы:\n",
    "# KMeans - \n",
    "# MiniBatchKMeans - \n",
    "# SpectralClustering - \n",
    "# Так как задачи кластеризации вычислительно сложны и ресурсоемки, будем использовать алгоритмы понижения размерности\n",
    "# Обоснование\n",
    "# \n",
    "# \n",
    "# "
   ]
  },
  {
   "cell_type": "code",
   "execution_count": 3,
   "id": "88b4a2c2",
   "metadata": {},
   "outputs": [],
   "source": [
    "# Загружаем данные\n",
    "try:\n",
    "    df = pd.read_csv('../Session2/category.csv')\n",
    "except Exception as ex:\n",
    "    print(ex)"
   ]
  },
  {
   "cell_type": "code",
   "execution_count": 4,
   "id": "810e6ea9",
   "metadata": {},
   "outputs": [
    {
     "data": {
      "text/html": [
       "<div>\n",
       "<style scoped>\n",
       "    .dataframe tbody tr th:only-of-type {\n",
       "        vertical-align: middle;\n",
       "    }\n",
       "\n",
       "    .dataframe tbody tr th {\n",
       "        vertical-align: top;\n",
       "    }\n",
       "\n",
       "    .dataframe thead th {\n",
       "        text-align: right;\n",
       "    }\n",
       "</style>\n",
       "<table border=\"1\" class=\"dataframe\">\n",
       "  <thead>\n",
       "    <tr style=\"text-align: right;\">\n",
       "      <th></th>\n",
       "      <th>Unnamed: 0</th>\n",
       "      <th>0</th>\n",
       "      <th>1</th>\n",
       "      <th>2</th>\n",
       "      <th>3</th>\n",
       "      <th>4</th>\n",
       "      <th>5</th>\n",
       "      <th>6</th>\n",
       "      <th>7</th>\n",
       "      <th>8</th>\n",
       "      <th>...</th>\n",
       "      <th>491</th>\n",
       "      <th>492</th>\n",
       "      <th>493</th>\n",
       "      <th>494</th>\n",
       "      <th>495</th>\n",
       "      <th>496</th>\n",
       "      <th>497</th>\n",
       "      <th>498</th>\n",
       "      <th>499</th>\n",
       "      <th>category</th>\n",
       "    </tr>\n",
       "  </thead>\n",
       "  <tbody>\n",
       "    <tr>\n",
       "      <th>0</th>\n",
       "      <td>0</td>\n",
       "      <td>0.0</td>\n",
       "      <td>0.000000</td>\n",
       "      <td>0.0</td>\n",
       "      <td>0.0</td>\n",
       "      <td>0.0</td>\n",
       "      <td>0.000000</td>\n",
       "      <td>0.0</td>\n",
       "      <td>0.0</td>\n",
       "      <td>0.0</td>\n",
       "      <td>...</td>\n",
       "      <td>0.0</td>\n",
       "      <td>0.0</td>\n",
       "      <td>0.0</td>\n",
       "      <td>0.0</td>\n",
       "      <td>0.0</td>\n",
       "      <td>0.0</td>\n",
       "      <td>0.0</td>\n",
       "      <td>0.0</td>\n",
       "      <td>0.0</td>\n",
       "      <td>благоустройство территории</td>\n",
       "    </tr>\n",
       "    <tr>\n",
       "      <th>1</th>\n",
       "      <td>1</td>\n",
       "      <td>0.0</td>\n",
       "      <td>0.236492</td>\n",
       "      <td>0.0</td>\n",
       "      <td>0.0</td>\n",
       "      <td>0.0</td>\n",
       "      <td>0.000000</td>\n",
       "      <td>0.0</td>\n",
       "      <td>0.0</td>\n",
       "      <td>0.0</td>\n",
       "      <td>...</td>\n",
       "      <td>0.0</td>\n",
       "      <td>0.0</td>\n",
       "      <td>0.0</td>\n",
       "      <td>0.0</td>\n",
       "      <td>0.0</td>\n",
       "      <td>0.0</td>\n",
       "      <td>0.0</td>\n",
       "      <td>0.0</td>\n",
       "      <td>0.0</td>\n",
       "      <td>благоустройство территории</td>\n",
       "    </tr>\n",
       "    <tr>\n",
       "      <th>2</th>\n",
       "      <td>2</td>\n",
       "      <td>0.0</td>\n",
       "      <td>0.000000</td>\n",
       "      <td>0.0</td>\n",
       "      <td>0.0</td>\n",
       "      <td>0.0</td>\n",
       "      <td>0.000000</td>\n",
       "      <td>0.0</td>\n",
       "      <td>0.0</td>\n",
       "      <td>0.0</td>\n",
       "      <td>...</td>\n",
       "      <td>0.0</td>\n",
       "      <td>0.0</td>\n",
       "      <td>0.0</td>\n",
       "      <td>0.0</td>\n",
       "      <td>0.0</td>\n",
       "      <td>0.0</td>\n",
       "      <td>0.0</td>\n",
       "      <td>0.0</td>\n",
       "      <td>0.0</td>\n",
       "      <td>содержание и ремонт муниципальных дорог</td>\n",
       "    </tr>\n",
       "    <tr>\n",
       "      <th>3</th>\n",
       "      <td>3</td>\n",
       "      <td>0.0</td>\n",
       "      <td>0.000000</td>\n",
       "      <td>0.0</td>\n",
       "      <td>0.0</td>\n",
       "      <td>0.0</td>\n",
       "      <td>0.303421</td>\n",
       "      <td>0.0</td>\n",
       "      <td>0.0</td>\n",
       "      <td>0.0</td>\n",
       "      <td>...</td>\n",
       "      <td>0.0</td>\n",
       "      <td>0.0</td>\n",
       "      <td>0.0</td>\n",
       "      <td>0.0</td>\n",
       "      <td>0.0</td>\n",
       "      <td>0.0</td>\n",
       "      <td>0.0</td>\n",
       "      <td>0.0</td>\n",
       "      <td>0.0</td>\n",
       "      <td>благоустройство территории</td>\n",
       "    </tr>\n",
       "    <tr>\n",
       "      <th>4</th>\n",
       "      <td>4</td>\n",
       "      <td>0.0</td>\n",
       "      <td>0.000000</td>\n",
       "      <td>0.0</td>\n",
       "      <td>0.0</td>\n",
       "      <td>0.0</td>\n",
       "      <td>0.000000</td>\n",
       "      <td>0.0</td>\n",
       "      <td>0.0</td>\n",
       "      <td>0.0</td>\n",
       "      <td>...</td>\n",
       "      <td>0.0</td>\n",
       "      <td>0.0</td>\n",
       "      <td>0.0</td>\n",
       "      <td>0.0</td>\n",
       "      <td>0.0</td>\n",
       "      <td>0.0</td>\n",
       "      <td>0.0</td>\n",
       "      <td>0.0</td>\n",
       "      <td>0.0</td>\n",
       "      <td>содержание и ремонт муниципальных дорог</td>\n",
       "    </tr>\n",
       "  </tbody>\n",
       "</table>\n",
       "<p>5 rows × 502 columns</p>\n",
       "</div>"
      ],
      "text/plain": [
       "   Unnamed: 0    0         1    2    3    4         5    6    7    8  ...  \\\n",
       "0           0  0.0  0.000000  0.0  0.0  0.0  0.000000  0.0  0.0  0.0  ...   \n",
       "1           1  0.0  0.236492  0.0  0.0  0.0  0.000000  0.0  0.0  0.0  ...   \n",
       "2           2  0.0  0.000000  0.0  0.0  0.0  0.000000  0.0  0.0  0.0  ...   \n",
       "3           3  0.0  0.000000  0.0  0.0  0.0  0.303421  0.0  0.0  0.0  ...   \n",
       "4           4  0.0  0.000000  0.0  0.0  0.0  0.000000  0.0  0.0  0.0  ...   \n",
       "\n",
       "   491  492  493  494  495  496  497  498  499  \\\n",
       "0  0.0  0.0  0.0  0.0  0.0  0.0  0.0  0.0  0.0   \n",
       "1  0.0  0.0  0.0  0.0  0.0  0.0  0.0  0.0  0.0   \n",
       "2  0.0  0.0  0.0  0.0  0.0  0.0  0.0  0.0  0.0   \n",
       "3  0.0  0.0  0.0  0.0  0.0  0.0  0.0  0.0  0.0   \n",
       "4  0.0  0.0  0.0  0.0  0.0  0.0  0.0  0.0  0.0   \n",
       "\n",
       "                                  category  \n",
       "0               благоустройство территории  \n",
       "1               благоустройство территории  \n",
       "2  содержание и ремонт муниципальных дорог  \n",
       "3               благоустройство территории  \n",
       "4  содержание и ремонт муниципальных дорог  \n",
       "\n",
       "[5 rows x 502 columns]"
      ]
     },
     "execution_count": 4,
     "metadata": {},
     "output_type": "execute_result"
    }
   ],
   "source": [
    "df.head()"
   ]
  },
  {
   "cell_type": "code",
   "execution_count": 5,
   "id": "a2e7bea6",
   "metadata": {},
   "outputs": [],
   "source": [
    "# Делим исходный набор на тестовую и тренировочную"
   ]
  },
  {
   "cell_type": "code",
   "execution_count": 6,
   "id": "bf94d123",
   "metadata": {},
   "outputs": [],
   "source": [
    "train_x, test_x, train_y, test_y = train_test_split(df.iloc[:, 1:-1], df.category, test_size=0.33)"
   ]
  },
  {
   "cell_type": "code",
   "execution_count": 7,
   "id": "79dd1d2c",
   "metadata": {},
   "outputs": [
    {
     "data": {
      "text/plain": [
       "((14064, 500), (14064,))"
      ]
     },
     "execution_count": 7,
     "metadata": {},
     "output_type": "execute_result"
    }
   ],
   "source": [
    "train_x.shape, train_y.shape"
   ]
  },
  {
   "cell_type": "code",
   "execution_count": 8,
   "id": "f44b99db",
   "metadata": {},
   "outputs": [],
   "source": [
    "# Обучим модель понижения размерности PCA для преобразования признаков из исходной размерности в меньшее. Это поможет повысить скорость обучения моделей почти не изменяя точность"
   ]
  },
  {
   "cell_type": "code",
   "execution_count": 13,
   "id": "ae335119",
   "metadata": {},
   "outputs": [
    {
     "data": {
      "text/plain": [
       "<AxesSubplot:title={'center':'PCA Component Explained Variances'}, xlabel='First n principal components', ylabel='Explained variance ratio of first n components'>"
      ]
     },
     "execution_count": 13,
     "metadata": {},
     "output_type": "execute_result"
    },
    {
     "data": {
      "image/png": "[encoded data removed]",
      "text/plain": [
       "<Figure size 432x288 with 1 Axes>"
      ]
     },
     "metadata": {
      "needs_background": "light"
     },
     "output_type": "display_data"
    }
   ],
   "source": [
    "pca = PCA(random_state=2022, n_components=200)\n",
    "pca.fit(train_x)\n",
    "skplt.decomposition.plot_pca_component_variance(pca)"
   ]
  },
  {
   "cell_type": "code",
   "execution_count": 15,
   "id": "2d055803",
   "metadata": {},
   "outputs": [
    {
     "name": "stdout",
     "output_type": "stream",
     "text": [
      "train_x.shape (14064, 500)\n",
      "pca.transform(train_x).shape (14064, 200)\n"
     ]
    }
   ],
   "source": [
    "print('train_x.shape', train_x.shape)\n",
    "print('pca.transform(train_x).shape', pca.transform(train_x).shape)"
   ]
  },
  {
   "cell_type": "code",
   "execution_count": null,
   "id": "321a5d78",
   "metadata": {},
   "outputs": [],
   "source": []
  },
  {
   "cell_type": "code",
   "execution_count": null,
   "id": "9b95f825",
   "metadata": {},
   "outputs": [],
   "source": [
    "# Визуализируем категории обращения граждан"
   ]
  },
  {
   "cell_type": "code",
   "execution_count": 41,
   "id": "a5352de1",
   "metadata": {},
   "outputs": [
    {
     "data": {
      "text/plain": [
       "<AxesSubplot:title={'center':'PCA 2-D Projection'}, xlabel='First Principal Component', ylabel='Second Principal Component'>"
      ]
     },
     "execution_count": 41,
     "metadata": {},
     "output_type": "execute_result"
    },
    {
     "data": {
      "image/png": "[encoded data removed]",
      "text/plain": [
       "<Figure size 432x288 with 1 Axes>"
      ]
     },
     "metadata": {
      "needs_background": "light"
     },
     "output_type": "display_data"
    }
   ],
   "source": [
    "skplt.decomposition.plot_pca_2d_projection(pca, train_x, train_y)"
   ]
  },
  {
   "cell_type": "code",
   "execution_count": null,
   "id": "1d864ac6",
   "metadata": {},
   "outputs": [],
   "source": [
    "# Обучим первую модель KMeans"
   ]
  },
  {
   "cell_type": "code",
   "execution_count": 16,
   "id": "54c19515",
   "metadata": {},
   "outputs": [
    {
     "data": {
      "text/plain": [
       "KMeans(algorithm='auto', copy_x=True, init='k-means++', max_iter=300,\n",
       "       n_clusters=7, n_init=10, n_jobs=None, precompute_distances='auto',\n",
       "       random_state=True, tol=0.0001, verbose=0)"
      ]
     },
     "execution_count": 16,
     "metadata": {},
     "output_type": "execute_result"
    }
   ],
   "source": [
    "kmeans = KMeans(n_clusters=len(pd.unique(df.category)), random_state=True)\n",
    "kmeans.fit(pca.transform(train_x), train_y)"
   ]
  },
  {
   "cell_type": "code",
   "execution_count": 17,
   "id": "7a26e1e1",
   "metadata": {},
   "outputs": [],
   "source": [
    "# Предскажем обращения пользователей"
   ]
  },
  {
   "cell_type": "code",
   "execution_count": 18,
   "id": "7edca875",
   "metadata": {},
   "outputs": [],
   "source": [
    "def pred(index):\n",
    "    print(kmeans.predict(pca.transform([df.iloc[index, 1:-1].values])), df.iloc[index, -1])"
   ]
  },
  {
   "cell_type": "code",
   "execution_count": 19,
   "id": "8a4de611",
   "metadata": {},
   "outputs": [
    {
     "name": "stdout",
     "output_type": "stream",
     "text": [
      "[1] содержание и ремонт муниципальных дорог\n",
      "[1] уборка снега\n",
      "[0] организация дорожного движения\n",
      "[1] благоустройство территории\n"
     ]
    }
   ],
   "source": [
    "pred(4)\n",
    "pred(19799)\n",
    "pred(405)\n",
    "pred(5)"
   ]
  },
  {
   "cell_type": "code",
   "execution_count": 20,
   "id": "209b5d35",
   "metadata": {},
   "outputs": [],
   "source": [
    "# Выведем результат работы алгоритма, измерив ее с помощью соответствующих метрик"
   ]
  },
  {
   "cell_type": "code",
   "execution_count": 21,
   "id": "73607431",
   "metadata": {},
   "outputs": [
    {
     "name": "stdout",
     "output_type": "stream",
     "text": [
      "homogeneity_completeness_v_measure: (0.1827034015146286, 0.1826446500622922, 0.18267402106456337)\n",
      "adjusted_rand_score: 0.01274252697924128\n"
     ]
    }
   ],
   "source": [
    "def print_metrics(x, y):\n",
    "    # Первая метрика\n",
    "    print('homogeneity_completeness_v_measure:', \n",
    "          metrics.homogeneity_completeness_v_measure(kmeans.predict(x), y))\n",
    "    # Вторая метрика\n",
    "    print('adjusted_rand_score:', \n",
    "          metrics.adjusted_rand_score(kmeans.predict(x), y))\n",
    "\n",
    "print_metrics(pca.transform(train_x), train_y)"
   ]
  },
  {
   "cell_type": "code",
   "execution_count": 22,
   "id": "8215c548",
   "metadata": {},
   "outputs": [
    {
     "name": "stdout",
     "output_type": "stream",
     "text": [
      "homogeneity_completeness_v_measure: (0.1879783138803925, 0.19064047785780797, 0.18930003669676476)\n",
      "adjusted_rand_score: 0.012735868119589908\n"
     ]
    }
   ],
   "source": [
    "print_metrics(pca.transform(test_x), test_y)"
   ]
  },
  {
   "cell_type": "code",
   "execution_count": 23,
   "id": "4e42a303",
   "metadata": {},
   "outputs": [],
   "source": [
    "# Визуализируем на двумерной плоскости целевые значения и предсказанные на обученном наборе, видно, что алгоритмы работают не совсем хорошо"
   ]
  },
  {
   "cell_type": "code",
   "execution_count": 24,
   "id": "e4b262f4",
   "metadata": {},
   "outputs": [
    {
     "data": {
      "text/plain": [
       "<matplotlib.collections.PathCollection at 0x7f7fdc77d7f0>"
      ]
     },
     "execution_count": 24,
     "metadata": {},
     "output_type": "execute_result"
    },
    {
     "data": {
      "image/png": "[encoded data removed]",
      "text/plain": [
       "<Figure size 432x288 with 1 Axes>"
      ]
     },
     "metadata": {
      "needs_background": "light"
     },
     "output_type": "display_data"
    }
   ],
   "source": [
    "pca1 = PCA(n_components=2)\n",
    "pca1.fit(train_x)\n",
    "vis = pd.concat([pd.DataFrame(pca1.transform(train_x)), pd.DataFrame(kmeans.predict(pca.transform(train_x)), columns=['t'])], axis=1)\n",
    "\n",
    "plt.scatter(vis[vis['t']==2].iloc[:, [0]], vis[vis['t']==2].iloc[:, [1]], c='green')\n",
    "plt.scatter(vis[vis['t']==3].iloc[:, [0]], vis[vis['t']==3].iloc[:, [1]], c='yellow')\n",
    "plt.scatter(vis[vis['t']==4].iloc[:, [0]], vis[vis['t']==4].iloc[:, [1]], c='blue')\n",
    "plt.scatter(vis[vis['t']==1].iloc[:, [0]], vis[vis['t']==1].iloc[:, [1]], c='black')\n",
    "plt.scatter(vis[vis['t']==6].iloc[:, [0]], vis[vis['t']==6].iloc[:, [1]], c='magenta')\n",
    "plt.scatter(vis[vis['t']==5].iloc[:, [0]], vis[vis['t']==5].iloc[:, [1]], c='purple')\n",
    "plt.scatter(vis[vis['t']==0].iloc[:, [0]], vis[vis['t']==0].iloc[:, [1]], c='red')"
   ]
  },
  {
   "cell_type": "code",
   "execution_count": 25,
   "id": "eff4a5ae",
   "metadata": {},
   "outputs": [
    {
     "data": {
      "text/plain": [
       "<matplotlib.collections.PathCollection at 0x7f7fdc68fef0>"
      ]
     },
     "execution_count": 25,
     "metadata": {},
     "output_type": "execute_result"
    },
    {
     "data": {
      "image/png": "[encoded data removed]",
      "text/plain": [
       "<Figure size 432x288 with 1 Axes>"
      ]
     },
     "metadata": {
      "needs_background": "light"
     },
     "output_type": "display_data"
    }
   ],
   "source": [
    "vis = pd.concat([pd.DataFrame(pca1.transform(train_x)), pd.DataFrame(train_y.values, columns=['t'])], axis=1)\n",
    "l = vis['t'].value_counts().index.tolist()\n",
    "\n",
    "plt.scatter(vis[vis['t']==l[0]].iloc[:, [0]], vis[vis['t']==l[0]].iloc[:, [1]], c='blue')\n",
    "plt.scatter(vis[vis['t']==l[1]].iloc[:, [0]], vis[vis['t']==l[1]].iloc[:, [1]], c='green')\n",
    "plt.scatter(vis[vis['t']==l[2]].iloc[:, [0]], vis[vis['t']==l[2]].iloc[:, [1]], c='red')\n",
    "plt.scatter(vis[vis['t']==l[4]].iloc[:, [0]], vis[vis['t']==l[4]].iloc[:, [1]], c='black')\n",
    "plt.scatter(vis[vis['t']==l[5]].iloc[:, [0]], vis[vis['t']==l[5]].iloc[:, [1]], c='purple')\n",
    "plt.scatter(vis[vis['t']==l[6]].iloc[:, [0]], vis[vis['t']==l[6]].iloc[:, [1]], c='magenta')\n",
    "plt.scatter(vis[vis['t']==l[3]].iloc[:, [0]], vis[vis['t']==l[3]].iloc[:, [1]], c='yellow')"
   ]
  },
  {
   "cell_type": "code",
   "execution_count": 26,
   "id": "7bc06f79",
   "metadata": {},
   "outputs": [],
   "source": [
    "# Обучим следующие алгоритмы кластеризации и отобразим их точность: 1)SpectralClustering 2)MiniBatchKMeans"
   ]
  },
  {
   "cell_type": "code",
   "execution_count": 27,
   "id": "8121ec9c",
   "metadata": {},
   "outputs": [
    {
     "name": "stdout",
     "output_type": "stream",
     "text": [
      "homogeneity_completeness_v_measure: (0.17137394490615065, 0.2484420738617935, 0.2028340814784165)\n",
      "adjusted_rand_score: 0.10555230702241204\n",
      "homogeneity_completeness_v_measure: (0.16366630955584352, 0.2326415083350576, 0.1921515317125823)\n",
      "adjusted_rand_score: 0.06387044978455171\n"
     ]
    }
   ],
   "source": [
    "def pred(model, index):\n",
    "    print(model.fit_predict(pca.transform([df.iloc[index, 1:-1].values])), df.iloc[index, -1])\n",
    "\n",
    "    \n",
    "def print_metrics(model, x, y):\n",
    "    print('homogeneity_completeness_v_measure:', \n",
    "          metrics.homogeneity_completeness_v_measure(model.fit_predict(pca.transform(x)), y))\n",
    "    print('adjusted_rand_score:', \n",
    "          metrics.adjusted_rand_score(model.fit_predict(pca.transform(x)), y))\n",
    "\n",
    "\n",
    "\n",
    "sprctral = SpectralClustering(n_clusters=len(pd.unique(df.category)))\n",
    "sprctral.fit(pca.transform(train_x), train_y)\n",
    "# pred(sprctral, 4)\n",
    "# pred(sprctral, 19799)\n",
    "# pred(sprctral, 405)\n",
    "# pred(sprctral, 5)\n",
    "print_metrics(sprctral, train_x, train_y)\n",
    "print_metrics(sprctral, test_x, test_y)"
   ]
  },
  {
   "cell_type": "code",
   "execution_count": 28,
   "id": "72a1689d",
   "metadata": {},
   "outputs": [
    {
     "name": "stdout",
     "output_type": "stream",
     "text": [
      "homogeneity_completeness_v_measure: (0.12845517148738647, 0.17510753869056972, 0.14819652188534652)\n",
      "adjusted_rand_score: 0.12192083869090696\n",
      "homogeneity_completeness_v_measure: (0.13592931065620228, 0.18389328483590756, 0.15631470567980082)\n",
      "adjusted_rand_score: 0.1317480241184369\n"
     ]
    }
   ],
   "source": [
    "def pred(model, index):\n",
    "    print(model.predict(pca.transform([df.iloc[index, 1:-1].values])), df.iloc[index, -1])\n",
    "\n",
    "    \n",
    "def print_metrics(model, x, y):\n",
    "    print('homogeneity_completeness_v_measure:', \n",
    "          metrics.homogeneity_completeness_v_measure(model.predict(pca.transform(x)), y))\n",
    "    print('adjusted_rand_score:', \n",
    "          metrics.adjusted_rand_score(model.predict(pca.transform(x)), y))\n",
    "    \n",
    "    \n",
    "\n",
    "shift = MiniBatchKMeans(n_clusters=len(pd.unique(df.category)))\n",
    "shift.fit(pca.transform(train_x), train_y)\n",
    "print_metrics(shift, train_x, train_y)\n",
    "print_metrics(shift, test_x, test_y)"
   ]
  },
  {
   "cell_type": "code",
   "execution_count": null,
   "id": "34510d92",
   "metadata": {},
   "outputs": [],
   "source": [
    "# Лучше всех себя показала SpectralClustering"
   ]
  },
  {
   "cell_type": "code",
   "execution_count": null,
   "id": "abb7d6f0",
   "metadata": {},
   "outputs": [],
   "source": []
  },
  {
   "cell_type": "markdown",
   "id": "bb944699",
   "metadata": {},
   "source": [
    "# Классификация обращений граждан по категориям"
   ]
  },
  {
   "cell_type": "code",
   "execution_count": 31,
   "id": "2be0e4cd",
   "metadata": {},
   "outputs": [],
   "source": [
    "# Загружаем данные\n",
    "try:\n",
    "    df = pd.read_csv('../Session2/category.csv')\n",
    "except Exception as ex:\n",
    "    print(ex)"
   ]
  },
  {
   "cell_type": "code",
   "execution_count": 32,
   "id": "960c8b45",
   "metadata": {},
   "outputs": [
    {
     "data": {
      "text/html": [
       "<div>\n",
       "<style scoped>\n",
       "    .dataframe tbody tr th:only-of-type {\n",
       "        vertical-align: middle;\n",
       "    }\n",
       "\n",
       "    .dataframe tbody tr th {\n",
       "        vertical-align: top;\n",
       "    }\n",
       "\n",
       "    .dataframe thead th {\n",
       "        text-align: right;\n",
       "    }\n",
       "</style>\n",
       "<table border=\"1\" class=\"dataframe\">\n",
       "  <thead>\n",
       "    <tr style=\"text-align: right;\">\n",
       "      <th></th>\n",
       "      <th>Unnamed: 0</th>\n",
       "      <th>0</th>\n",
       "      <th>1</th>\n",
       "      <th>2</th>\n",
       "      <th>3</th>\n",
       "      <th>4</th>\n",
       "      <th>5</th>\n",
       "      <th>6</th>\n",
       "      <th>7</th>\n",
       "      <th>8</th>\n",
       "      <th>...</th>\n",
       "      <th>491</th>\n",
       "      <th>492</th>\n",
       "      <th>493</th>\n",
       "      <th>494</th>\n",
       "      <th>495</th>\n",
       "      <th>496</th>\n",
       "      <th>497</th>\n",
       "      <th>498</th>\n",
       "      <th>499</th>\n",
       "      <th>category</th>\n",
       "    </tr>\n",
       "  </thead>\n",
       "  <tbody>\n",
       "    <tr>\n",
       "      <th>0</th>\n",
       "      <td>0</td>\n",
       "      <td>0.0</td>\n",
       "      <td>0.000000</td>\n",
       "      <td>0.0</td>\n",
       "      <td>0.0</td>\n",
       "      <td>0.0</td>\n",
       "      <td>0.000000</td>\n",
       "      <td>0.0</td>\n",
       "      <td>0.0</td>\n",
       "      <td>0.0</td>\n",
       "      <td>...</td>\n",
       "      <td>0.0</td>\n",
       "      <td>0.0</td>\n",
       "      <td>0.0</td>\n",
       "      <td>0.0</td>\n",
       "      <td>0.0</td>\n",
       "      <td>0.0</td>\n",
       "      <td>0.0</td>\n",
       "      <td>0.0</td>\n",
       "      <td>0.0</td>\n",
       "      <td>благоустройство территории</td>\n",
       "    </tr>\n",
       "    <tr>\n",
       "      <th>1</th>\n",
       "      <td>1</td>\n",
       "      <td>0.0</td>\n",
       "      <td>0.236492</td>\n",
       "      <td>0.0</td>\n",
       "      <td>0.0</td>\n",
       "      <td>0.0</td>\n",
       "      <td>0.000000</td>\n",
       "      <td>0.0</td>\n",
       "      <td>0.0</td>\n",
       "      <td>0.0</td>\n",
       "      <td>...</td>\n",
       "      <td>0.0</td>\n",
       "      <td>0.0</td>\n",
       "      <td>0.0</td>\n",
       "      <td>0.0</td>\n",
       "      <td>0.0</td>\n",
       "      <td>0.0</td>\n",
       "      <td>0.0</td>\n",
       "      <td>0.0</td>\n",
       "      <td>0.0</td>\n",
       "      <td>благоустройство территории</td>\n",
       "    </tr>\n",
       "    <tr>\n",
       "      <th>2</th>\n",
       "      <td>2</td>\n",
       "      <td>0.0</td>\n",
       "      <td>0.000000</td>\n",
       "      <td>0.0</td>\n",
       "      <td>0.0</td>\n",
       "      <td>0.0</td>\n",
       "      <td>0.000000</td>\n",
       "      <td>0.0</td>\n",
       "      <td>0.0</td>\n",
       "      <td>0.0</td>\n",
       "      <td>...</td>\n",
       "      <td>0.0</td>\n",
       "      <td>0.0</td>\n",
       "      <td>0.0</td>\n",
       "      <td>0.0</td>\n",
       "      <td>0.0</td>\n",
       "      <td>0.0</td>\n",
       "      <td>0.0</td>\n",
       "      <td>0.0</td>\n",
       "      <td>0.0</td>\n",
       "      <td>содержание и ремонт муниципальных дорог</td>\n",
       "    </tr>\n",
       "    <tr>\n",
       "      <th>3</th>\n",
       "      <td>3</td>\n",
       "      <td>0.0</td>\n",
       "      <td>0.000000</td>\n",
       "      <td>0.0</td>\n",
       "      <td>0.0</td>\n",
       "      <td>0.0</td>\n",
       "      <td>0.303421</td>\n",
       "      <td>0.0</td>\n",
       "      <td>0.0</td>\n",
       "      <td>0.0</td>\n",
       "      <td>...</td>\n",
       "      <td>0.0</td>\n",
       "      <td>0.0</td>\n",
       "      <td>0.0</td>\n",
       "      <td>0.0</td>\n",
       "      <td>0.0</td>\n",
       "      <td>0.0</td>\n",
       "      <td>0.0</td>\n",
       "      <td>0.0</td>\n",
       "      <td>0.0</td>\n",
       "      <td>благоустройство территории</td>\n",
       "    </tr>\n",
       "    <tr>\n",
       "      <th>4</th>\n",
       "      <td>4</td>\n",
       "      <td>0.0</td>\n",
       "      <td>0.000000</td>\n",
       "      <td>0.0</td>\n",
       "      <td>0.0</td>\n",
       "      <td>0.0</td>\n",
       "      <td>0.000000</td>\n",
       "      <td>0.0</td>\n",
       "      <td>0.0</td>\n",
       "      <td>0.0</td>\n",
       "      <td>...</td>\n",
       "      <td>0.0</td>\n",
       "      <td>0.0</td>\n",
       "      <td>0.0</td>\n",
       "      <td>0.0</td>\n",
       "      <td>0.0</td>\n",
       "      <td>0.0</td>\n",
       "      <td>0.0</td>\n",
       "      <td>0.0</td>\n",
       "      <td>0.0</td>\n",
       "      <td>содержание и ремонт муниципальных дорог</td>\n",
       "    </tr>\n",
       "  </tbody>\n",
       "</table>\n",
       "<p>5 rows × 502 columns</p>\n",
       "</div>"
      ],
      "text/plain": [
       "   Unnamed: 0    0         1    2    3    4         5    6    7    8  ...  \\\n",
       "0           0  0.0  0.000000  0.0  0.0  0.0  0.000000  0.0  0.0  0.0  ...   \n",
       "1           1  0.0  0.236492  0.0  0.0  0.0  0.000000  0.0  0.0  0.0  ...   \n",
       "2           2  0.0  0.000000  0.0  0.0  0.0  0.000000  0.0  0.0  0.0  ...   \n",
       "3           3  0.0  0.000000  0.0  0.0  0.0  0.303421  0.0  0.0  0.0  ...   \n",
       "4           4  0.0  0.000000  0.0  0.0  0.0  0.000000  0.0  0.0  0.0  ...   \n",
       "\n",
       "   491  492  493  494  495  496  497  498  499  \\\n",
       "0  0.0  0.0  0.0  0.0  0.0  0.0  0.0  0.0  0.0   \n",
       "1  0.0  0.0  0.0  0.0  0.0  0.0  0.0  0.0  0.0   \n",
       "2  0.0  0.0  0.0  0.0  0.0  0.0  0.0  0.0  0.0   \n",
       "3  0.0  0.0  0.0  0.0  0.0  0.0  0.0  0.0  0.0   \n",
       "4  0.0  0.0  0.0  0.0  0.0  0.0  0.0  0.0  0.0   \n",
       "\n",
       "                                  category  \n",
       "0               благоустройство территории  \n",
       "1               благоустройство территории  \n",
       "2  содержание и ремонт муниципальных дорог  \n",
       "3               благоустройство территории  \n",
       "4  содержание и ремонт муниципальных дорог  \n",
       "\n",
       "[5 rows x 502 columns]"
      ]
     },
     "execution_count": 32,
     "metadata": {},
     "output_type": "execute_result"
    }
   ],
   "source": [
    "df.head()"
   ]
  },
  {
   "cell_type": "code",
   "execution_count": 41,
   "id": "a61da8d9",
   "metadata": {},
   "outputs": [],
   "source": [
    "train_x, test_x, train_y, test_y = train_test_split(df.iloc[:, 1:-1], df.category, \n",
    "                                                    test_size=0.33, stratify=df.category)\n",
    "train_x, valid_x, train_y, valid_y = train_test_split(df.iloc[:, 1:-1], df.category, \n",
    "                                                    test_size=0.33, stratify=df.category)"
   ]
  },
  {
   "cell_type": "code",
   "execution_count": null,
   "id": "86ed0a91",
   "metadata": {},
   "outputs": [],
   "source": [
    "# Catboost, meterics vis: roc-auc, "
   ]
  },
  {
   "cell_type": "code",
   "execution_count": 54,
   "id": "40632947",
   "metadata": {},
   "outputs": [
    {
     "name": "stderr",
     "output_type": "stream",
     "text": [
      "Custom logger is already specified. Specify more than one logger at same time is not thread safe."
     ]
    },
    {
     "data": {
      "application/vnd.jupyter.widget-view+json": {
       "model_id": "a44121474214479c9d3531d8cf27c968",
       "version_major": 2,
       "version_minor": 0
      },
      "text/plain": [
       "MetricVisualizer(layout=Layout(align_self='stretch', height='500px'))"
      ]
     },
     "metadata": {},
     "output_type": "display_data"
    },
    {
     "data": {
      "text/plain": [
       "<catboost.core.CatBoostClassifier at 0x7f801911c198>"
      ]
     },
     "execution_count": 54,
     "metadata": {},
     "output_type": "execute_result"
    }
   ],
   "source": [
    "model = catboost.CatBoostClassifier(\n",
    "    boosting_type='Ordered',\n",
    "    custom_metric=['AUC', 'F1'],\n",
    "    eval_metric='AUC'\n",
    ")\n",
    "\n",
    "model.fit(train_x, train_y, eval_set=(valid_x, valid_y), plot=True, verbose=False)"
   ]
  },
  {
   "cell_type": "code",
   "execution_count": null,
   "id": "ed7dd133",
   "metadata": {},
   "outputs": [],
   "source": [
    "# Разработаем функцию для вывода метрик на экран"
   ]
  },
  {
   "cell_type": "code",
   "execution_count": 58,
   "id": "7f798a4c",
   "metadata": {},
   "outputs": [],
   "source": [
    "def print_metrics(model, test, y):\n",
    "    print(metrics.classification_report(model.predict(test), y))"
   ]
  },
  {
   "cell_type": "code",
   "execution_count": 59,
   "id": "0365368a",
   "metadata": {},
   "outputs": [],
   "source": [
    "# метрики на тренировочной выборке, валидационной, тестовой"
   ]
  },
  {
   "cell_type": "code",
   "execution_count": 60,
   "id": "ae936ddc",
   "metadata": {},
   "outputs": [
    {
     "name": "stdout",
     "output_type": "stream",
     "text": [
      "                                         precision    recall  f1-score   support\n",
      "\n",
      "             благоустройство территории       0.92      0.88      0.90      8259\n",
      "                                 другое       0.61      0.84      0.70        95\n",
      "                                    жкх       0.16      0.76      0.27        25\n",
      "                        здравоохранение       0.80      0.91      0.85       116\n",
      "         организация дорожного движения       0.83      0.91      0.87      1054\n",
      "содержание и ремонт муниципальных дорог       0.84      0.84      0.84      4467\n",
      "                           уборка снега       0.34      0.90      0.49        48\n",
      "\n",
      "                               accuracy                           0.87     14064\n",
      "                              macro avg       0.64      0.86      0.70     14064\n",
      "                           weighted avg       0.88      0.87      0.87     14064\n",
      "\n"
     ]
    }
   ],
   "source": [
    "print_metrics(model, train_x, train_y)"
   ]
  },
  {
   "cell_type": "code",
   "execution_count": 61,
   "id": "1d49e751",
   "metadata": {},
   "outputs": [
    {
     "name": "stdout",
     "output_type": "stream",
     "text": [
      "                                         precision    recall  f1-score   support\n",
      "\n",
      "             благоустройство территории       0.88      0.84      0.86      4071\n",
      "                                 другое       0.34      0.73      0.46        30\n",
      "                                    жкх       0.19      0.79      0.31        14\n",
      "                        здравоохранение       0.68      0.79      0.73        56\n",
      "         организация дорожного движения       0.76      0.85      0.80       509\n",
      "содержание и ремонт муниципальных дорог       0.77      0.77      0.77      2232\n",
      "                           уборка снега       0.24      0.94      0.38        16\n",
      "\n",
      "                               accuracy                           0.82      6928\n",
      "                              macro avg       0.55      0.81      0.62      6928\n",
      "                           weighted avg       0.83      0.82      0.82      6928\n",
      "\n"
     ]
    }
   ],
   "source": [
    "print_metrics(model, valid_x, valid_y)"
   ]
  },
  {
   "cell_type": "code",
   "execution_count": 62,
   "id": "24b54ac9",
   "metadata": {},
   "outputs": [
    {
     "name": "stdout",
     "output_type": "stream",
     "text": [
      "                                         precision    recall  f1-score   support\n",
      "\n",
      "             благоустройство территории       0.90      0.86      0.88      4067\n",
      "                                 другое       0.62      0.93      0.74        43\n",
      "                                    жкх       0.18      0.83      0.29        12\n",
      "                        здравоохранение       0.78      0.85      0.82        60\n",
      "         организация дорожного движения       0.80      0.89      0.84       519\n",
      "содержание и ремонт муниципальных дорог       0.81      0.81      0.81      2212\n",
      "                           уборка снега       0.22      0.93      0.36        15\n",
      "\n",
      "                               accuracy                           0.85      6928\n",
      "                              macro avg       0.62      0.87      0.68      6928\n",
      "                           weighted avg       0.86      0.85      0.85      6928\n",
      "\n"
     ]
    }
   ],
   "source": [
    "print_metrics(model, test_x, test_y)"
   ]
  },
  {
   "cell_type": "code",
   "execution_count": null,
   "id": "fe7474ca",
   "metadata": {},
   "outputs": [],
   "source": [
    "# Визулизируем метрики"
   ]
  },
  {
   "cell_type": "code",
   "execution_count": 68,
   "id": "a1fadb52",
   "metadata": {},
   "outputs": [
    {
     "data": {
      "text/plain": [
       "<AxesSubplot:title={'center':'Normalized Confusion Matrix'}, xlabel='Predicted label', ylabel='True label'>"
      ]
     },
     "execution_count": 68,
     "metadata": {},
     "output_type": "execute_result"
    },
    {
     "data": {
      "image/png": "[encoded data removed]",
      "text/plain": [
       "<Figure size 432x288 with 2 Axes>"
      ]
     },
     "metadata": {
      "needs_background": "light"
     },
     "output_type": "display_data"
    }
   ],
   "source": [
    "skplt.metrics.plot_confusion_matrix(test_y, model.predict(test_x), normalize=True)"
   ]
  },
  {
   "cell_type": "code",
   "execution_count": 69,
   "id": "7aa9f80c",
   "metadata": {},
   "outputs": [
    {
     "data": {
      "text/plain": [
       "<AxesSubplot:title={'center':'ROC Curves'}, xlabel='False Positive Rate', ylabel='True Positive Rate'>"
      ]
     },
     "execution_count": 69,
     "metadata": {},
     "output_type": "execute_result"
    },
    {
     "data": {
      "image/png": "[encoded data removed]",
      "text/plain": [
       "<Figure size 432x288 with 1 Axes>"
      ]
     },
     "metadata": {
      "needs_background": "light"
     },
     "output_type": "display_data"
    }
   ],
   "source": [
    "skplt.metrics.plot_roc(test_y, model.predict_proba(test_x))"
   ]
  },
  {
   "cell_type": "code",
   "execution_count": null,
   "id": "aca64e28",
   "metadata": {},
   "outputs": [],
   "source": [
    "# Logistic regression, grid_search, cross_val"
   ]
  },
  {
   "cell_type": "code",
   "execution_count": null,
   "id": "011c436b",
   "metadata": {},
   "outputs": [],
   "source": [
    "# Так как логистическая регрессия менее вычислительно затратная, применим ее для \n",
    "# кросс-валидации и поиска по сетке"
   ]
  },
  {
   "cell_type": "code",
   "execution_count": null,
   "id": "e0cb58ae",
   "metadata": {},
   "outputs": [],
   "source": [
    "model = LogisticRegression()\n",
    "param = {}\n",
    "grid_search = GridSearchCV()\n",
    "grid_search.fit(train_x, train_y)"
   ]
  },
  {
   "cell_type": "code",
   "execution_count": null,
   "id": "8bb20941",
   "metadata": {},
   "outputs": [],
   "source": []
  },
  {
   "cell_type": "code",
   "execution_count": null,
   "id": "a27e7c0d",
   "metadata": {},
   "outputs": [],
   "source": []
  },
  {
   "cell_type": "code",
   "execution_count": null,
   "id": "e02b9586",
   "metadata": {},
   "outputs": [],
   "source": [
    "# Random forest, learning_curve, feature_importance"
   ]
  },
  {
   "cell_type": "code",
   "execution_count": 75,
   "id": "33db8c11",
   "metadata": {},
   "outputs": [
    {
     "name": "stderr",
     "output_type": "stream",
     "text": [
      "/home/user/src/PY36/lib/python3.6/site-packages/sklearn/model_selection/_split.py:1978: FutureWarning: The default value of cv will change from 3 to 5 in version 0.22. Specify it explicitly to silence this warning.\n",
      "  warnings.warn(CV_WARNING, FutureWarning)\n"
     ]
    },
    {
     "data": {
      "text/plain": [
       "<AxesSubplot:title={'center':'Learning Curve'}, xlabel='Training examples', ylabel='Score'>"
      ]
     },
     "execution_count": 75,
     "metadata": {},
     "output_type": "execute_result"
    },
    {
     "data": {
      "image/png": "[encoded data removed]",
      "text/plain": [
       "<Figure size 432x288 with 1 Axes>"
      ]
     },
     "metadata": {
      "needs_background": "light"
     },
     "output_type": "display_data"
    }
   ],
   "source": [
    "model = RandomForestClassifier(\n",
    "    n_estimators=500,\n",
    "    criterion='entropy',\n",
    "    n_jobs=-1,\n",
    "    class_weight='balanced'\n",
    ")\n",
    "skplt.estimators.plot_learning_curve(model, train_x, train_y)"
   ]
  },
  {
   "cell_type": "code",
   "execution_count": null,
   "id": "33820e3a",
   "metadata": {},
   "outputs": [],
   "source": [
    "model.fit(train_x, train_y)"
   ]
  },
  {
   "cell_type": "code",
   "execution_count": 91,
   "id": "4feb5f6a",
   "metadata": {},
   "outputs": [
    {
     "data": {
      "text/plain": [
       "<AxesSubplot:title={'center':'Feature Importance'}>"
      ]
     },
     "execution_count": 91,
     "metadata": {},
     "output_type": "execute_result"
    },
    {
     "data": {
      "image/png": "[encoded data removed]",
      "text/plain": [
       "<Figure size 720x360 with 1 Axes>"
      ]
     },
     "metadata": {
      "needs_background": "light"
     },
     "output_type": "display_data"
    }
   ],
   "source": [
    "skplt.estimators.plot_feature_importances(model, figsize=(10, 5))"
   ]
  },
  {
   "cell_type": "code",
   "execution_count": null,
   "id": "1bd38a70",
   "metadata": {},
   "outputs": [],
   "source": [
    "# Было бы круто перевести индекс в слово"
   ]
  },
  {
   "cell_type": "code",
   "execution_count": 92,
   "id": "fd22c53d",
   "metadata": {},
   "outputs": [
    {
     "name": "stdout",
     "output_type": "stream",
     "text": [
      "                                         precision    recall  f1-score   support\n",
      "\n",
      "             благоустройство территории       0.93      0.94      0.94      3836\n",
      "                                 другое       0.77      0.42      0.55       118\n",
      "                                    жкх       0.74      1.00      0.85        42\n",
      "                        здравоохранение       0.95      0.90      0.93        69\n",
      "         организация дорожного движения       0.91      0.93      0.92       558\n",
      "содержание и ремонт муниципальных дорог       0.91      0.90      0.90      2260\n",
      "                           уборка снега       0.71      1.00      0.83        45\n",
      "\n",
      "                               accuracy                           0.92      6928\n",
      "                              macro avg       0.85      0.87      0.85      6928\n",
      "                           weighted avg       0.92      0.92      0.92      6928\n",
      "\n"
     ]
    }
   ],
   "source": [
    "# Вывод метрик\n",
    "print_metrics(model, test_x, test_y)"
   ]
  },
  {
   "cell_type": "code",
   "execution_count": 93,
   "id": "8124281f",
   "metadata": {},
   "outputs": [
    {
     "name": "stdout",
     "output_type": "stream",
     "text": [
      "                                         precision    recall  f1-score   support\n",
      "\n",
      "             благоустройство территории       0.98      1.00      0.99      7775\n",
      "                                 другое       1.00      0.53      0.69       248\n",
      "                                    жкх       0.99      0.99      0.99       116\n",
      "                        здравоохранение       0.99      1.00      1.00       131\n",
      "         организация дорожного движения       0.99      0.99      0.99      1163\n",
      "содержание и ремонт муниципальных дорог       0.99      0.99      0.99      4503\n",
      "                           уборка снега       1.00      1.00      1.00       128\n",
      "\n",
      "                               accuracy                           0.99     14064\n",
      "                              macro avg       0.99      0.93      0.95     14064\n",
      "                           weighted avg       0.99      0.99      0.99     14064\n",
      "\n"
     ]
    }
   ],
   "source": [
    "print_metrics(model, train_x, train_y)"
   ]
  },
  {
   "cell_type": "code",
   "execution_count": 95,
   "id": "4f84f1f3",
   "metadata": {},
   "outputs": [
    {
     "data": {
      "text/plain": [
       "['rf_model.pkl']"
      ]
     },
     "execution_count": 95,
     "metadata": {},
     "output_type": "execute_result"
    }
   ],
   "source": [
    "# Сохраним модель\n",
    "joblib.dump(model, 'rf_model.pkl')"
   ]
  },
  {
   "cell_type": "code",
   "execution_count": 97,
   "id": "aa7e6047",
   "metadata": {},
   "outputs": [
    {
     "data": {
      "text/plain": [
       "0.9187355658198614"
      ]
     },
     "execution_count": 97,
     "metadata": {},
     "output_type": "execute_result"
    }
   ],
   "source": [
    "m = joblib.load('rf_model.pkl')\n",
    "m.score(test_x, test_y)"
   ]
  },
  {
   "cell_type": "markdown",
   "id": "0696a10d",
   "metadata": {},
   "source": [
    "# Классификация обращений по ведомствам"
   ]
  },
  {
   "cell_type": "code",
   "execution_count": null,
   "id": "f4da7ba4",
   "metadata": {},
   "outputs": [],
   "source": []
  },
  {
   "cell_type": "code",
   "execution_count": null,
   "id": "99a198fa",
   "metadata": {},
   "outputs": [],
   "source": []
  },
  {
   "cell_type": "code",
   "execution_count": null,
   "id": "34861d76",
   "metadata": {},
   "outputs": [],
   "source": []
  },
  {
   "cell_type": "markdown",
   "id": "efa09ac7",
   "metadata": {},
   "source": [
    "# Семантический анализ обращений"
   ]
  },
  {
   "cell_type": "code",
   "execution_count": null,
   "id": "899da72d",
   "metadata": {},
   "outputs": [],
   "source": []
  },
  {
   "cell_type": "code",
   "execution_count": null,
   "id": "5169e5b8",
   "metadata": {},
   "outputs": [],
   "source": []
  },
  {
   "cell_type": "code",
   "execution_count": null,
   "id": "d981ac58",
   "metadata": {},
   "outputs": [],
   "source": []
  }
 ],
 "metadata": {
  "kernelspec": {
   "display_name": "Python 3",
   "language": "python",
   "name": "python3"
  },
  "language_info": {
   "codemirror_mode": {
    "name": "ipython",
    "version": 3
   },
   "file_extension": ".py",
   "mimetype": "text/x-python",
   "name": "python",
   "nbconvert_exporter": "python",
   "pygments_lexer": "ipython3",
   "version": "3.6.15"
  }
 },
 "nbformat": 4,
 "nbformat_minor": 5
}
