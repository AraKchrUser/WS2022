{
 "cells": [
  {
   "cell_type": "code",
   "execution_count": 1,
   "id": "70bf9b7f",
   "metadata": {},
   "outputs": [],
   "source": [
    "import pandas as pd\n",
    "import numpy as np\n",
    "\n",
    "import sklearn\n",
    "from sklearn import impute\n",
    "from sklearn import model_selection, preprocessing, decomposition, cluster, metrics\n",
    "import scikitplot as skplt\n",
    "\n",
    "%matplotlib inline\n",
    "import matplotlib.pyplot as plt\n",
    "import seaborn as sns\n",
    "import datetime\n",
    "\n",
    "import warnings\n",
    "warnings.filterwarnings('ignore')"
   ]
  },
  {
   "cell_type": "code",
   "execution_count": null,
   "id": "1655e8ae",
   "metadata": {},
   "outputs": [],
   "source": []
  },
  {
   "cell_type": "markdown",
   "id": "2da9e862",
   "metadata": {},
   "source": [
    "# 1"
   ]
  },
  {
   "cell_type": "code",
   "execution_count": 2,
   "id": "d414a911",
   "metadata": {},
   "outputs": [],
   "source": [
    "data = pd.read_csv('https://raw.githubusercontent.com/owid/covid-19-data/master/public/data/owid-covid-data.csv')"
   ]
  },
  {
   "cell_type": "code",
   "execution_count": 3,
   "id": "1afdd68b",
   "metadata": {},
   "outputs": [
    {
     "data": {
      "text/html": [
       "<div>\n",
       "<style scoped>\n",
       "    .dataframe tbody tr th:only-of-type {\n",
       "        vertical-align: middle;\n",
       "    }\n",
       "\n",
       "    .dataframe tbody tr th {\n",
       "        vertical-align: top;\n",
       "    }\n",
       "\n",
       "    .dataframe thead th {\n",
       "        text-align: right;\n",
       "    }\n",
       "</style>\n",
       "<table border=\"1\" class=\"dataframe\">\n",
       "  <thead>\n",
       "    <tr style=\"text-align: right;\">\n",
       "      <th></th>\n",
       "      <th>iso_code</th>\n",
       "      <th>continent</th>\n",
       "      <th>location</th>\n",
       "      <th>date</th>\n",
       "      <th>total_cases</th>\n",
       "      <th>new_cases</th>\n",
       "      <th>new_cases_smoothed</th>\n",
       "      <th>total_deaths</th>\n",
       "      <th>new_deaths</th>\n",
       "      <th>new_deaths_smoothed</th>\n",
       "      <th>...</th>\n",
       "      <th>female_smokers</th>\n",
       "      <th>male_smokers</th>\n",
       "      <th>handwashing_facilities</th>\n",
       "      <th>hospital_beds_per_thousand</th>\n",
       "      <th>life_expectancy</th>\n",
       "      <th>human_development_index</th>\n",
       "      <th>excess_mortality_cumulative_absolute</th>\n",
       "      <th>excess_mortality_cumulative</th>\n",
       "      <th>excess_mortality</th>\n",
       "      <th>excess_mortality_cumulative_per_million</th>\n",
       "    </tr>\n",
       "  </thead>\n",
       "  <tbody>\n",
       "    <tr>\n",
       "      <th>0</th>\n",
       "      <td>AFG</td>\n",
       "      <td>Asia</td>\n",
       "      <td>Afghanistan</td>\n",
       "      <td>2020-02-24</td>\n",
       "      <td>5.0</td>\n",
       "      <td>5.0</td>\n",
       "      <td>NaN</td>\n",
       "      <td>NaN</td>\n",
       "      <td>NaN</td>\n",
       "      <td>NaN</td>\n",
       "      <td>...</td>\n",
       "      <td>NaN</td>\n",
       "      <td>NaN</td>\n",
       "      <td>37.746</td>\n",
       "      <td>0.5</td>\n",
       "      <td>64.83</td>\n",
       "      <td>0.511</td>\n",
       "      <td>NaN</td>\n",
       "      <td>NaN</td>\n",
       "      <td>NaN</td>\n",
       "      <td>NaN</td>\n",
       "    </tr>\n",
       "    <tr>\n",
       "      <th>1</th>\n",
       "      <td>AFG</td>\n",
       "      <td>Asia</td>\n",
       "      <td>Afghanistan</td>\n",
       "      <td>2020-02-25</td>\n",
       "      <td>5.0</td>\n",
       "      <td>0.0</td>\n",
       "      <td>NaN</td>\n",
       "      <td>NaN</td>\n",
       "      <td>NaN</td>\n",
       "      <td>NaN</td>\n",
       "      <td>...</td>\n",
       "      <td>NaN</td>\n",
       "      <td>NaN</td>\n",
       "      <td>37.746</td>\n",
       "      <td>0.5</td>\n",
       "      <td>64.83</td>\n",
       "      <td>0.511</td>\n",
       "      <td>NaN</td>\n",
       "      <td>NaN</td>\n",
       "      <td>NaN</td>\n",
       "      <td>NaN</td>\n",
       "    </tr>\n",
       "    <tr>\n",
       "      <th>2</th>\n",
       "      <td>AFG</td>\n",
       "      <td>Asia</td>\n",
       "      <td>Afghanistan</td>\n",
       "      <td>2020-02-26</td>\n",
       "      <td>5.0</td>\n",
       "      <td>0.0</td>\n",
       "      <td>NaN</td>\n",
       "      <td>NaN</td>\n",
       "      <td>NaN</td>\n",
       "      <td>NaN</td>\n",
       "      <td>...</td>\n",
       "      <td>NaN</td>\n",
       "      <td>NaN</td>\n",
       "      <td>37.746</td>\n",
       "      <td>0.5</td>\n",
       "      <td>64.83</td>\n",
       "      <td>0.511</td>\n",
       "      <td>NaN</td>\n",
       "      <td>NaN</td>\n",
       "      <td>NaN</td>\n",
       "      <td>NaN</td>\n",
       "    </tr>\n",
       "    <tr>\n",
       "      <th>3</th>\n",
       "      <td>AFG</td>\n",
       "      <td>Asia</td>\n",
       "      <td>Afghanistan</td>\n",
       "      <td>2020-02-27</td>\n",
       "      <td>5.0</td>\n",
       "      <td>0.0</td>\n",
       "      <td>NaN</td>\n",
       "      <td>NaN</td>\n",
       "      <td>NaN</td>\n",
       "      <td>NaN</td>\n",
       "      <td>...</td>\n",
       "      <td>NaN</td>\n",
       "      <td>NaN</td>\n",
       "      <td>37.746</td>\n",
       "      <td>0.5</td>\n",
       "      <td>64.83</td>\n",
       "      <td>0.511</td>\n",
       "      <td>NaN</td>\n",
       "      <td>NaN</td>\n",
       "      <td>NaN</td>\n",
       "      <td>NaN</td>\n",
       "    </tr>\n",
       "    <tr>\n",
       "      <th>4</th>\n",
       "      <td>AFG</td>\n",
       "      <td>Asia</td>\n",
       "      <td>Afghanistan</td>\n",
       "      <td>2020-02-28</td>\n",
       "      <td>5.0</td>\n",
       "      <td>0.0</td>\n",
       "      <td>NaN</td>\n",
       "      <td>NaN</td>\n",
       "      <td>NaN</td>\n",
       "      <td>NaN</td>\n",
       "      <td>...</td>\n",
       "      <td>NaN</td>\n",
       "      <td>NaN</td>\n",
       "      <td>37.746</td>\n",
       "      <td>0.5</td>\n",
       "      <td>64.83</td>\n",
       "      <td>0.511</td>\n",
       "      <td>NaN</td>\n",
       "      <td>NaN</td>\n",
       "      <td>NaN</td>\n",
       "      <td>NaN</td>\n",
       "    </tr>\n",
       "  </tbody>\n",
       "</table>\n",
       "<p>5 rows × 67 columns</p>\n",
       "</div>"
      ],
      "text/plain": [
       "  iso_code continent     location        date  total_cases  new_cases  \\\n",
       "0      AFG      Asia  Afghanistan  2020-02-24          5.0        5.0   \n",
       "1      AFG      Asia  Afghanistan  2020-02-25          5.0        0.0   \n",
       "2      AFG      Asia  Afghanistan  2020-02-26          5.0        0.0   \n",
       "3      AFG      Asia  Afghanistan  2020-02-27          5.0        0.0   \n",
       "4      AFG      Asia  Afghanistan  2020-02-28          5.0        0.0   \n",
       "\n",
       "   new_cases_smoothed  total_deaths  new_deaths  new_deaths_smoothed  ...  \\\n",
       "0                 NaN           NaN         NaN                  NaN  ...   \n",
       "1                 NaN           NaN         NaN                  NaN  ...   \n",
       "2                 NaN           NaN         NaN                  NaN  ...   \n",
       "3                 NaN           NaN         NaN                  NaN  ...   \n",
       "4                 NaN           NaN         NaN                  NaN  ...   \n",
       "\n",
       "   female_smokers  male_smokers  handwashing_facilities  \\\n",
       "0             NaN           NaN                  37.746   \n",
       "1             NaN           NaN                  37.746   \n",
       "2             NaN           NaN                  37.746   \n",
       "3             NaN           NaN                  37.746   \n",
       "4             NaN           NaN                  37.746   \n",
       "\n",
       "   hospital_beds_per_thousand  life_expectancy  human_development_index  \\\n",
       "0                         0.5            64.83                    0.511   \n",
       "1                         0.5            64.83                    0.511   \n",
       "2                         0.5            64.83                    0.511   \n",
       "3                         0.5            64.83                    0.511   \n",
       "4                         0.5            64.83                    0.511   \n",
       "\n",
       "   excess_mortality_cumulative_absolute  excess_mortality_cumulative  \\\n",
       "0                                   NaN                          NaN   \n",
       "1                                   NaN                          NaN   \n",
       "2                                   NaN                          NaN   \n",
       "3                                   NaN                          NaN   \n",
       "4                                   NaN                          NaN   \n",
       "\n",
       "   excess_mortality  excess_mortality_cumulative_per_million  \n",
       "0               NaN                                      NaN  \n",
       "1               NaN                                      NaN  \n",
       "2               NaN                                      NaN  \n",
       "3               NaN                                      NaN  \n",
       "4               NaN                                      NaN  \n",
       "\n",
       "[5 rows x 67 columns]"
      ]
     },
     "execution_count": 3,
     "metadata": {},
     "output_type": "execute_result"
    }
   ],
   "source": [
    "data.head()"
   ]
  },
  {
   "cell_type": "code",
   "execution_count": 4,
   "id": "a63e1944",
   "metadata": {},
   "outputs": [
    {
     "name": "stdout",
     "output_type": "stream",
     "text": [
      "float: 62, object: 5\n"
     ]
    }
   ],
   "source": [
    "float_type_count = 0\n",
    "object_type_count = 0\n",
    "for i in data:\n",
    "    if data[i].dtype == float:\n",
    "        float_type_count += 1\n",
    "    if data[i].dtype == object:\n",
    "        object_type_count += 1\n",
    "print(f'float: {float_type_count}, object: {object_type_count}')"
   ]
  },
  {
   "cell_type": "code",
   "execution_count": null,
   "id": "8d4192cd",
   "metadata": {},
   "outputs": [],
   "source": []
  },
  {
   "cell_type": "markdown",
   "id": "d92a4ab3",
   "metadata": {},
   "source": [
    "# 2"
   ]
  },
  {
   "cell_type": "code",
   "execution_count": null,
   "id": "80668ab2",
   "metadata": {},
   "outputs": [],
   "source": []
  },
  {
   "cell_type": "code",
   "execution_count": null,
   "id": "293e569e",
   "metadata": {},
   "outputs": [],
   "source": []
  },
  {
   "cell_type": "markdown",
   "id": "8e4a6ed7",
   "metadata": {},
   "source": [
    "После выбора значимых атрибутов необхоимо будет думать - как их сгладить"
   ]
  },
  {
   "cell_type": "code",
   "execution_count": 57,
   "id": "4ca18940",
   "metadata": {},
   "outputs": [
    {
     "data": {
      "text/html": [
       "<div>\n",
       "<style scoped>\n",
       "    .dataframe tbody tr th:only-of-type {\n",
       "        vertical-align: middle;\n",
       "    }\n",
       "\n",
       "    .dataframe tbody tr th {\n",
       "        vertical-align: top;\n",
       "    }\n",
       "\n",
       "    .dataframe thead th {\n",
       "        text-align: right;\n",
       "    }\n",
       "</style>\n",
       "<table border=\"1\" class=\"dataframe\">\n",
       "  <thead>\n",
       "    <tr style=\"text-align: right;\">\n",
       "      <th></th>\n",
       "      <th>total_cases</th>\n",
       "      <th>new_cases</th>\n",
       "      <th>new_cases_smoothed</th>\n",
       "      <th>total_cases_per_million</th>\n",
       "      <th>new_cases_per_million</th>\n",
       "      <th>new_cases_smoothed_per_million</th>\n",
       "    </tr>\n",
       "  </thead>\n",
       "  <tbody>\n",
       "    <tr>\n",
       "      <th>181945</th>\n",
       "      <td>247297.0</td>\n",
       "      <td>0.0</td>\n",
       "      <td>29.000</td>\n",
       "      <td>16385.780</td>\n",
       "      <td>0.000</td>\n",
       "      <td>1.922</td>\n",
       "    </tr>\n",
       "    <tr>\n",
       "      <th>181946</th>\n",
       "      <td>247336.0</td>\n",
       "      <td>39.0</td>\n",
       "      <td>25.143</td>\n",
       "      <td>16388.365</td>\n",
       "      <td>2.584</td>\n",
       "      <td>1.666</td>\n",
       "    </tr>\n",
       "    <tr>\n",
       "      <th>181947</th>\n",
       "      <td>247383.0</td>\n",
       "      <td>47.0</td>\n",
       "      <td>25.000</td>\n",
       "      <td>16391.479</td>\n",
       "      <td>3.114</td>\n",
       "      <td>1.656</td>\n",
       "    </tr>\n",
       "    <tr>\n",
       "      <th>181948</th>\n",
       "      <td>247488.0</td>\n",
       "      <td>105.0</td>\n",
       "      <td>35.857</td>\n",
       "      <td>16398.436</td>\n",
       "      <td>6.957</td>\n",
       "      <td>2.376</td>\n",
       "    </tr>\n",
       "    <tr>\n",
       "      <th>181949</th>\n",
       "      <td>247524.0</td>\n",
       "      <td>36.0</td>\n",
       "      <td>41.000</td>\n",
       "      <td>16400.821</td>\n",
       "      <td>2.385</td>\n",
       "      <td>2.717</td>\n",
       "    </tr>\n",
       "    <tr>\n",
       "      <th>181950</th>\n",
       "      <td>247524.0</td>\n",
       "      <td>0.0</td>\n",
       "      <td>35.143</td>\n",
       "      <td>16400.821</td>\n",
       "      <td>0.000</td>\n",
       "      <td>2.329</td>\n",
       "    </tr>\n",
       "    <tr>\n",
       "      <th>181951</th>\n",
       "      <td>247598.0</td>\n",
       "      <td>74.0</td>\n",
       "      <td>43.000</td>\n",
       "      <td>16405.725</td>\n",
       "      <td>4.903</td>\n",
       "      <td>2.849</td>\n",
       "    </tr>\n",
       "    <tr>\n",
       "      <th>181952</th>\n",
       "      <td>247667.0</td>\n",
       "      <td>69.0</td>\n",
       "      <td>52.857</td>\n",
       "      <td>16410.296</td>\n",
       "      <td>4.572</td>\n",
       "      <td>3.502</td>\n",
       "    </tr>\n",
       "  </tbody>\n",
       "</table>\n",
       "</div>"
      ],
      "text/plain": [
       "        total_cases  new_cases  new_cases_smoothed  total_cases_per_million  \\\n",
       "181945     247297.0        0.0              29.000                16385.780   \n",
       "181946     247336.0       39.0              25.143                16388.365   \n",
       "181947     247383.0       47.0              25.000                16391.479   \n",
       "181948     247488.0      105.0              35.857                16398.436   \n",
       "181949     247524.0       36.0              41.000                16400.821   \n",
       "181950     247524.0        0.0              35.143                16400.821   \n",
       "181951     247598.0       74.0              43.000                16405.725   \n",
       "181952     247667.0       69.0              52.857                16410.296   \n",
       "\n",
       "        new_cases_per_million  new_cases_smoothed_per_million  \n",
       "181945                  0.000                           1.922  \n",
       "181946                  2.584                           1.666  \n",
       "181947                  3.114                           1.656  \n",
       "181948                  6.957                           2.376  \n",
       "181949                  2.385                           2.717  \n",
       "181950                  0.000                           2.329  \n",
       "181951                  4.903                           2.849  \n",
       "181952                  4.572                           3.502  "
      ]
     },
     "execution_count": 57,
     "metadata": {},
     "output_type": "execute_result"
    }
   ],
   "source": [
    "columns = ['total_cases', 'new_cases', 'new_cases_smoothed', \n",
    "           'total_cases_per_million', 'new_cases_per_million', 'new_cases_smoothed_per_million']\n",
    "data[columns].tail(8)"
   ]
  },
  {
   "cell_type": "code",
   "execution_count": 59,
   "id": "0b6feec1",
   "metadata": {},
   "outputs": [
    {
     "data": {
      "text/plain": [
       "3.5021428571428572"
      ]
     },
     "execution_count": 59,
     "metadata": {},
     "output_type": "execute_result"
    }
   ],
   "source": [
    "data[columns].tail(7)['new_cases_per_million'].sum() / 7"
   ]
  },
  {
   "cell_type": "code",
   "execution_count": 71,
   "id": "a5e41ddd",
   "metadata": {},
   "outputs": [
    {
     "data": {
      "text/plain": [
       "array([2.47666993e+11])"
      ]
     },
     "execution_count": 71,
     "metadata": {},
     "output_type": "execute_result"
    }
   ],
   "source": [
    "data[columns]['total_cases_per_million'].values[-1:] * data['population'].values[-1:]"
   ]
  },
  {
   "cell_type": "markdown",
   "id": "3898cfb3",
   "metadata": {},
   "source": [
    "Будем предсказывать 'new_cases_smoothed_per_million', из которого можно вывести 'total_cases_per_million', и путем умножения на 'population' страны 'total_cases'.\n",
    "'new_cases_smoothed_per_million' - дает сглаженную оценку за неделю, из-за чего значения меньше колеблятся\n",
    "Аналогично с 'total_deaths'"
   ]
  },
  {
   "cell_type": "code",
   "execution_count": 87,
   "id": "f7b9a414",
   "metadata": {},
   "outputs": [
    {
     "data": {
      "text/plain": [
       "<AxesSubplot:>"
      ]
     },
     "execution_count": 87,
     "metadata": {},
     "output_type": "execute_result"
    },
    {
     "data": {
      "image/png": "[encoded data removed]",
      "text/plain": [
       "<Figure size 432x288 with 2 Axes>"
      ]
     },
     "metadata": {
      "needs_background": "light"
     },
     "output_type": "display_data"
    }
   ],
   "source": [
    "columns = ['total_cases_per_million', 'new_cases_per_million', 'new_cases_smoothed_per_million',\n",
    "          'total_deaths_per_million', 'new_deaths_per_million', 'new_deaths_smoothed_per_million']\n",
    "sns.heatmap(data[columns].corr(), annot=True, mask=np.triu(data[columns].corr()))"
   ]
  },
  {
   "cell_type": "markdown",
   "id": "34691b26",
   "metadata": {},
   "source": [
    "### Вывод:"
   ]
  },
  {
   "cell_type": "markdown",
   "id": "08b7bda4",
   "metadata": {},
   "source": [
    "**'new_cases_smoothed_per_million', 'new_deaths_smoothed_per_million'** - целевые функции. Также используя их, можно вывести другие показатели"
   ]
  },
  {
   "cell_type": "code",
   "execution_count": null,
   "id": "330d3a1d",
   "metadata": {},
   "outputs": [],
   "source": []
  },
  {
   "cell_type": "markdown",
   "id": "f74c9554",
   "metadata": {},
   "source": [
    "Показатели 'excess_mortality', 'excess_mortality_cumulative', \n",
    " 'excess_mortality_cumulative_absolute', 'excess_mortality_cumulative_per_million' отвечают за стаистику прогнозируемых и фактических смертей и не имеют отношения к решваемой задаче"
   ]
  },
  {
   "cell_type": "code",
   "execution_count": 58,
   "id": "9958a2dd",
   "metadata": {},
   "outputs": [
    {
     "data": {
      "text/html": [
       "<div>\n",
       "<style scoped>\n",
       "    .dataframe tbody tr th:only-of-type {\n",
       "        vertical-align: middle;\n",
       "    }\n",
       "\n",
       "    .dataframe tbody tr th {\n",
       "        vertical-align: top;\n",
       "    }\n",
       "\n",
       "    .dataframe thead th {\n",
       "        text-align: right;\n",
       "    }\n",
       "</style>\n",
       "<table border=\"1\" class=\"dataframe\">\n",
       "  <thead>\n",
       "    <tr style=\"text-align: right;\">\n",
       "      <th></th>\n",
       "      <th>icu_patients_per_million</th>\n",
       "      <th>hosp_patients_per_million</th>\n",
       "      <th>weekly_icu_admissions_per_million</th>\n",
       "      <th>weekly_hosp_admissions_per_million</th>\n",
       "    </tr>\n",
       "    <tr>\n",
       "      <th>location</th>\n",
       "      <th></th>\n",
       "      <th></th>\n",
       "      <th></th>\n",
       "      <th></th>\n",
       "    </tr>\n",
       "  </thead>\n",
       "  <tbody>\n",
       "    <tr>\n",
       "      <th>Afghanistan</th>\n",
       "      <td>NaN</td>\n",
       "      <td>NaN</td>\n",
       "      <td>NaN</td>\n",
       "      <td>NaN</td>\n",
       "    </tr>\n",
       "    <tr>\n",
       "      <th>Africa</th>\n",
       "      <td>NaN</td>\n",
       "      <td>NaN</td>\n",
       "      <td>NaN</td>\n",
       "      <td>NaN</td>\n",
       "    </tr>\n",
       "    <tr>\n",
       "      <th>Albania</th>\n",
       "      <td>NaN</td>\n",
       "      <td>NaN</td>\n",
       "      <td>NaN</td>\n",
       "      <td>NaN</td>\n",
       "    </tr>\n",
       "    <tr>\n",
       "      <th>Algeria</th>\n",
       "      <td>0.624385</td>\n",
       "      <td>NaN</td>\n",
       "      <td>NaN</td>\n",
       "      <td>NaN</td>\n",
       "    </tr>\n",
       "    <tr>\n",
       "      <th>Andorra</th>\n",
       "      <td>NaN</td>\n",
       "      <td>NaN</td>\n",
       "      <td>NaN</td>\n",
       "      <td>NaN</td>\n",
       "    </tr>\n",
       "    <tr>\n",
       "      <th>Angola</th>\n",
       "      <td>NaN</td>\n",
       "      <td>NaN</td>\n",
       "      <td>NaN</td>\n",
       "      <td>NaN</td>\n",
       "    </tr>\n",
       "    <tr>\n",
       "      <th>Anguilla</th>\n",
       "      <td>NaN</td>\n",
       "      <td>NaN</td>\n",
       "      <td>NaN</td>\n",
       "      <td>NaN</td>\n",
       "    </tr>\n",
       "    <tr>\n",
       "      <th>Antigua and Barbuda</th>\n",
       "      <td>NaN</td>\n",
       "      <td>NaN</td>\n",
       "      <td>NaN</td>\n",
       "      <td>NaN</td>\n",
       "    </tr>\n",
       "    <tr>\n",
       "      <th>Argentina</th>\n",
       "      <td>64.346691</td>\n",
       "      <td>NaN</td>\n",
       "      <td>NaN</td>\n",
       "      <td>NaN</td>\n",
       "    </tr>\n",
       "    <tr>\n",
       "      <th>Armenia</th>\n",
       "      <td>NaN</td>\n",
       "      <td>NaN</td>\n",
       "      <td>NaN</td>\n",
       "      <td>NaN</td>\n",
       "    </tr>\n",
       "  </tbody>\n",
       "</table>\n",
       "</div>"
      ],
      "text/plain": [
       "                     icu_patients_per_million  hosp_patients_per_million  \\\n",
       "location                                                                   \n",
       "Afghanistan                               NaN                        NaN   \n",
       "Africa                                    NaN                        NaN   \n",
       "Albania                                   NaN                        NaN   \n",
       "Algeria                              0.624385                        NaN   \n",
       "Andorra                                   NaN                        NaN   \n",
       "Angola                                    NaN                        NaN   \n",
       "Anguilla                                  NaN                        NaN   \n",
       "Antigua and Barbuda                       NaN                        NaN   \n",
       "Argentina                           64.346691                        NaN   \n",
       "Armenia                                   NaN                        NaN   \n",
       "\n",
       "                     weekly_icu_admissions_per_million  \\\n",
       "location                                                 \n",
       "Afghanistan                                        NaN   \n",
       "Africa                                             NaN   \n",
       "Albania                                            NaN   \n",
       "Algeria                                            NaN   \n",
       "Andorra                                            NaN   \n",
       "Angola                                             NaN   \n",
       "Anguilla                                           NaN   \n",
       "Antigua and Barbuda                                NaN   \n",
       "Argentina                                          NaN   \n",
       "Armenia                                            NaN   \n",
       "\n",
       "                     weekly_hosp_admissions_per_million  \n",
       "location                                                 \n",
       "Afghanistan                                         NaN  \n",
       "Africa                                              NaN  \n",
       "Albania                                             NaN  \n",
       "Algeria                                             NaN  \n",
       "Andorra                                             NaN  \n",
       "Angola                                              NaN  \n",
       "Anguilla                                            NaN  \n",
       "Antigua and Barbuda                                 NaN  \n",
       "Argentina                                           NaN  \n",
       "Armenia                                             NaN  "
      ]
     },
     "execution_count": 58,
     "metadata": {},
     "output_type": "execute_result"
    }
   ],
   "source": [
    "columns = ['icu_patients_per_million', 'hosp_patients_per_million', \n",
    "           'weekly_icu_admissions_per_million', 'weekly_hosp_admissions_per_million']\n",
    "data.groupby('location')[columns].mean().head(10)"
   ]
  },
  {
   "cell_type": "code",
   "execution_count": null,
   "id": "f90e7336",
   "metadata": {},
   "outputs": [],
   "source": []
  },
  {
   "cell_type": "markdown",
   "id": "c4cb92d5",
   "metadata": {},
   "source": [
    "Рассмотрим другие признаки:"
   ]
  },
  {
   "cell_type": "code",
   "execution_count": 57,
   "id": "a0060bf5",
   "metadata": {},
   "outputs": [
    {
     "name": "stdout",
     "output_type": "stream",
     "text": [
      "population_density ~ 12 %\n",
      "extreme_poverty ~ 48 %\n",
      "handwashing_facilities ~ 60 %\n",
      "hospital_beds_per_thousand ~ 29 %\n"
     ]
    }
   ],
   "source": [
    "columns = ['location', 'date', 'population_density', 'extreme_poverty', \n",
    "           'handwashing_facilities', 'hospital_beds_per_thousand']\n",
    "for i in columns[2:]:\n",
    "    print(i, '~', int(data.groupby('location')[i].mean().isna().sum() / len(pd.unique(data.location)) * 100), '%')"
   ]
  },
  {
   "cell_type": "markdown",
   "id": "346db461",
   "metadata": {},
   "source": [
    "Интересное наблюдение - чем больше доля нищих людей, тем ниже доля людей, имеющих базовые средства гигиены"
   ]
  },
  {
   "cell_type": "code",
   "execution_count": 65,
   "id": "6680b05f",
   "metadata": {},
   "outputs": [
    {
     "data": {
      "text/plain": [
       "<AxesSubplot:>"
      ]
     },
     "execution_count": 65,
     "metadata": {},
     "output_type": "execute_result"
    },
    {
     "data": {
      "image/png": "[encoded data removed]",
      "text/plain": [
       "<Figure size 432x288 with 2 Axes>"
      ]
     },
     "metadata": {
      "needs_background": "light"
     },
     "output_type": "display_data"
    }
   ],
   "source": [
    "sns.heatmap(data[['extreme_poverty', 'handwashing_facilities']].corr(), annot=True)"
   ]
  },
  {
   "cell_type": "code",
   "execution_count": 95,
   "id": "01fb65a5",
   "metadata": {},
   "outputs": [
    {
     "data": {
      "text/html": [
       "<div>\n",
       "<style scoped>\n",
       "    .dataframe tbody tr th:only-of-type {\n",
       "        vertical-align: middle;\n",
       "    }\n",
       "\n",
       "    .dataframe tbody tr th {\n",
       "        vertical-align: top;\n",
       "    }\n",
       "\n",
       "    .dataframe thead th {\n",
       "        text-align: right;\n",
       "    }\n",
       "</style>\n",
       "<table border=\"1\" class=\"dataframe\">\n",
       "  <thead>\n",
       "    <tr style=\"text-align: right;\">\n",
       "      <th></th>\n",
       "      <th>location</th>\n",
       "      <th>extreme_poverty</th>\n",
       "      <th>handwashing_facilities</th>\n",
       "      <th>hospital_beds_per_thousand</th>\n",
       "    </tr>\n",
       "  </thead>\n",
       "  <tbody>\n",
       "    <tr>\n",
       "      <th>135340</th>\n",
       "      <td>Russia</td>\n",
       "      <td>0.1</td>\n",
       "      <td>NaN</td>\n",
       "      <td>8.05</td>\n",
       "    </tr>\n",
       "    <tr>\n",
       "      <th>135341</th>\n",
       "      <td>Russia</td>\n",
       "      <td>0.1</td>\n",
       "      <td>NaN</td>\n",
       "      <td>8.05</td>\n",
       "    </tr>\n",
       "    <tr>\n",
       "      <th>135342</th>\n",
       "      <td>Russia</td>\n",
       "      <td>0.1</td>\n",
       "      <td>NaN</td>\n",
       "      <td>8.05</td>\n",
       "    </tr>\n",
       "    <tr>\n",
       "      <th>135343</th>\n",
       "      <td>Russia</td>\n",
       "      <td>0.1</td>\n",
       "      <td>NaN</td>\n",
       "      <td>8.05</td>\n",
       "    </tr>\n",
       "    <tr>\n",
       "      <th>135344</th>\n",
       "      <td>Russia</td>\n",
       "      <td>0.1</td>\n",
       "      <td>NaN</td>\n",
       "      <td>8.05</td>\n",
       "    </tr>\n",
       "  </tbody>\n",
       "</table>\n",
       "</div>"
      ],
      "text/plain": [
       "       location  extreme_poverty  handwashing_facilities  \\\n",
       "135340   Russia              0.1                     NaN   \n",
       "135341   Russia              0.1                     NaN   \n",
       "135342   Russia              0.1                     NaN   \n",
       "135343   Russia              0.1                     NaN   \n",
       "135344   Russia              0.1                     NaN   \n",
       "\n",
       "        hospital_beds_per_thousand  \n",
       "135340                        8.05  \n",
       "135341                        8.05  \n",
       "135342                        8.05  \n",
       "135343                        8.05  \n",
       "135344                        8.05  "
      ]
     },
     "execution_count": 95,
     "metadata": {},
     "output_type": "execute_result"
    }
   ],
   "source": [
    "data[data.location=='Russia'][['location', 'extreme_poverty', \n",
    "                               'handwashing_facilities', 'hospital_beds_per_thousand']].head()"
   ]
  },
  {
   "cell_type": "markdown",
   "id": "3ac25a54",
   "metadata": {},
   "source": [
    "Видно, что лишь часть стран имеет указанные признаки"
   ]
  },
  {
   "cell_type": "markdown",
   "id": "ca9405ed",
   "metadata": {},
   "source": [
    "### Вывод"
   ]
  },
  {
   "cell_type": "markdown",
   "id": "b472c32d",
   "metadata": {},
   "source": [
    "Удалим **handwashing_facilities**, а также все страны, не имеющие таких атрибутов, как **['population_density', 'extreme_poverty', 'handwashing_facilities', 'hospital_beds_per_thousand']**, также статистики **['icu_patients_per_million', 'hosp_patients_per_million','weekly_icu_admissions_per_million', 'weekly_hosp_admissions_per_million']**"
   ]
  },
  {
   "cell_type": "code",
   "execution_count": null,
   "id": "e1d116a4",
   "metadata": {},
   "outputs": [],
   "source": []
  },
  {
   "cell_type": "markdown",
   "id": "de16f656",
   "metadata": {},
   "source": [
    "Уровень серьезности реагирования правительства:"
   ]
  },
  {
   "cell_type": "code",
   "execution_count": 74,
   "id": "4cfb5ae3",
   "metadata": {},
   "outputs": [
    {
     "name": "stdout",
     "output_type": "stream",
     "text": [
      "Отсутсвует ~ 23 % стран\n"
     ]
    }
   ],
   "source": [
    "print('Отсутсвует ~',\n",
    "      int(data.groupby('location')[['stringency_index']].mean().isna().sum()\n",
    "          / len(pd.unique(data.location)) * 100), '% стран')"
   ]
  },
  {
   "cell_type": "markdown",
   "id": "1756faf9",
   "metadata": {},
   "source": [
    "Скорость распространения вируса"
   ]
  },
  {
   "cell_type": "code",
   "execution_count": 75,
   "id": "fe14aa7f",
   "metadata": {},
   "outputs": [
    {
     "name": "stdout",
     "output_type": "stream",
     "text": [
      "Отсутсвует ~ 21 % стран\n"
     ]
    }
   ],
   "source": [
    "print('Отсутсвует ~',\n",
    "      int(data.groupby('location')[['reproduction_rate']].mean().isna().sum()\n",
    "          / len(pd.unique(data.location)) * 100), '% стран')"
   ]
  },
  {
   "cell_type": "code",
   "execution_count": null,
   "id": "8335b79b",
   "metadata": {},
   "outputs": [],
   "source": []
  },
  {
   "cell_type": "code",
   "execution_count": null,
   "id": "96098c6c",
   "metadata": {},
   "outputs": [],
   "source": []
  },
  {
   "cell_type": "code",
   "execution_count": null,
   "id": "37d2b50d",
   "metadata": {},
   "outputs": [],
   "source": []
  },
  {
   "cell_type": "markdown",
   "id": "0ae1cc59",
   "metadata": {},
   "source": [
    "Количество проведенных тестов нас мало интересует, так как это не влияет на распространение короновируса.\n",
    "Рассмоторим долю положительный результатов"
   ]
  },
  {
   "cell_type": "code",
   "execution_count": 14,
   "id": "f3291370",
   "metadata": {},
   "outputs": [
    {
     "data": {
      "text/plain": [
       "<AxesSubplot:xlabel='location', ylabel='date'>"
      ]
     },
     "execution_count": 14,
     "metadata": {},
     "output_type": "execute_result"
    },
    {
     "data": {
      "image/png": "[encoded data removed]",
      "text/plain": [
       "<Figure size 432x288 with 2 Axes>"
      ]
     },
     "metadata": {
      "needs_background": "light"
     },
     "output_type": "display_data"
    }
   ],
   "source": [
    "sns.heatmap(~pd.pivot_table(data=data, index='date', columns='location', values='positive_rate').isna())"
   ]
  },
  {
   "cell_type": "code",
   "execution_count": 77,
   "id": "797c2d4f",
   "metadata": {},
   "outputs": [
    {
     "name": "stdout",
     "output_type": "stream",
     "text": [
      "Отсутсвует ~ 29 % стран\n"
     ]
    }
   ],
   "source": [
    "print('Отсутсвует ~',\n",
    "      int(data.groupby('location')[['positive_rate']].mean().isna().sum()\n",
    "          / len(pd.unique(data.location)) * 100), '% стран')"
   ]
  },
  {
   "cell_type": "code",
   "execution_count": 93,
   "id": "6dce0e36",
   "metadata": {},
   "outputs": [
    {
     "data": {
      "text/plain": [
       "['Afghanistan',\n",
       " 'Albania',\n",
       " 'Andorra',\n",
       " 'Angola',\n",
       " 'Anguilla',\n",
       " 'Antigua and Barbuda',\n",
       " 'Argentina',\n",
       " 'Armenia',\n",
       " 'Australia',\n",
       " 'Austria']"
      ]
     },
     "execution_count": 93,
     "metadata": {},
     "output_type": "execute_result"
    }
   ],
   "source": [
    "dt = data.groupby('location')[['positive_rate']].mean()\n",
    "dt[~dt.isna().values].index.tolist()[:10]"
   ]
  },
  {
   "cell_type": "code",
   "execution_count": 91,
   "id": "b8a68a10",
   "metadata": {},
   "outputs": [
    {
     "data": {
      "text/html": [
       "<div>\n",
       "<style scoped>\n",
       "    .dataframe tbody tr th:only-of-type {\n",
       "        vertical-align: middle;\n",
       "    }\n",
       "\n",
       "    .dataframe tbody tr th {\n",
       "        vertical-align: top;\n",
       "    }\n",
       "\n",
       "    .dataframe thead th {\n",
       "        text-align: right;\n",
       "    }\n",
       "</style>\n",
       "<table border=\"1\" class=\"dataframe\">\n",
       "  <thead>\n",
       "    <tr style=\"text-align: right;\">\n",
       "      <th></th>\n",
       "      <th>date</th>\n",
       "      <th>positive_rate</th>\n",
       "    </tr>\n",
       "  </thead>\n",
       "  <tbody>\n",
       "    <tr>\n",
       "      <th>166204</th>\n",
       "      <td>2020-04-03</td>\n",
       "      <td>0.1621</td>\n",
       "    </tr>\n",
       "    <tr>\n",
       "      <th>166205</th>\n",
       "      <td>2020-04-04</td>\n",
       "      <td>0.1561</td>\n",
       "    </tr>\n",
       "    <tr>\n",
       "      <th>166206</th>\n",
       "      <td>2020-04-05</td>\n",
       "      <td>0.1539</td>\n",
       "    </tr>\n",
       "    <tr>\n",
       "      <th>166207</th>\n",
       "      <td>2020-04-06</td>\n",
       "      <td>0.1541</td>\n",
       "    </tr>\n",
       "    <tr>\n",
       "      <th>166208</th>\n",
       "      <td>2020-04-07</td>\n",
       "      <td>0.1577</td>\n",
       "    </tr>\n",
       "  </tbody>\n",
       "</table>\n",
       "</div>"
      ],
      "text/plain": [
       "              date  positive_rate\n",
       "166204  2020-04-03         0.1621\n",
       "166205  2020-04-04         0.1561\n",
       "166206  2020-04-05         0.1539\n",
       "166207  2020-04-06         0.1541\n",
       "166208  2020-04-07         0.1577"
      ]
     },
     "execution_count": 91,
     "metadata": {},
     "output_type": "execute_result"
    }
   ],
   "source": [
    "data[data.location=='Turkey'][['date', 'positive_rate']].dropna().head()"
   ]
  },
  {
   "cell_type": "code",
   "execution_count": null,
   "id": "530c4c77",
   "metadata": {},
   "outputs": [],
   "source": []
  },
  {
   "cell_type": "markdown",
   "id": "c9c39e20",
   "metadata": {},
   "source": [
    "Использовать Vaccinations нельзя, так как в данном случае, необходимо предсказать 'total_vaccinations_per_hundred'."
   ]
  },
  {
   "cell_type": "code",
   "execution_count": null,
   "id": "1c4aa31f",
   "metadata": {},
   "outputs": [],
   "source": []
  },
  {
   "cell_type": "code",
   "execution_count": null,
   "id": "0ee86612",
   "metadata": {},
   "outputs": [],
   "source": []
  },
  {
   "cell_type": "markdown",
   "id": "c790d933",
   "metadata": {},
   "source": [
    "### Вывод"
   ]
  },
  {
   "cell_type": "markdown",
   "id": "656b8da6",
   "metadata": {},
   "source": [
    "Удалить страны, у которых отсутсвует **positive_rate, stringency_index, reproduction_rate, total_vaccinations_per_hundred**"
   ]
  },
  {
   "cell_type": "code",
   "execution_count": null,
   "id": "97e6fcbc",
   "metadata": {},
   "outputs": [],
   "source": []
  },
  {
   "cell_type": "code",
   "execution_count": null,
   "id": "2b6efbe8",
   "metadata": {},
   "outputs": [],
   "source": [
    "# Преобразование датасета"
   ]
  },
  {
   "cell_type": "markdown",
   "id": "044ebf6c",
   "metadata": {},
   "source": []
  },
  {
   "cell_type": "code",
   "execution_count": null,
   "id": "c417eefc",
   "metadata": {},
   "outputs": [],
   "source": []
  },
  {
   "cell_type": "code",
   "execution_count": null,
   "id": "3e106e3e",
   "metadata": {},
   "outputs": [],
   "source": []
  },
  {
   "cell_type": "code",
   "execution_count": null,
   "id": "e75174df",
   "metadata": {},
   "outputs": [],
   "source": []
  },
  {
   "cell_type": "code",
   "execution_count": null,
   "id": "310a002e",
   "metadata": {},
   "outputs": [],
   "source": []
  },
  {
   "cell_type": "code",
   "execution_count": null,
   "id": "c48889a2",
   "metadata": {},
   "outputs": [],
   "source": []
  },
  {
   "cell_type": "code",
   "execution_count": null,
   "id": "76abfa47",
   "metadata": {},
   "outputs": [],
   "source": []
  }
 ],
 "metadata": {
  "kernelspec": {
   "display_name": "Python 3",
   "language": "python",
   "name": "python3"
  },
  "language_info": {
   "codemirror_mode": {
    "name": "ipython",
    "version": 3
   },
   "file_extension": ".py",
   "mimetype": "text/x-python",
   "name": "python",
   "nbconvert_exporter": "python",
   "pygments_lexer": "ipython3",
   "version": "3.6.15"
  }
 },
 "nbformat": 4,
 "nbformat_minor": 5
}
